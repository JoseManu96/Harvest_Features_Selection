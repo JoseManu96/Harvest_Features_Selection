{
  "nbformat": 4,
  "nbformat_minor": 0,
  "metadata": {
    "colab": {
      "name": "dh_interview.ipynb",
      "provenance": [],
      "collapsed_sections": [],
      "authorship_tag": "ABX9TyPrhpiX6Mnc4a91Fe0+IbQQ",
      "include_colab_link": true
    },
    "kernelspec": {
      "name": "python3",
      "display_name": "Python 3"
    },
    "language_info": {
      "name": "python"
    }
  },
  "cells": [
    {
      "cell_type": "markdown",
      "metadata": {
        "id": "view-in-github",
        "colab_type": "text"
      },
      "source": [
        "<a href=\"https://colab.research.google.com/github/JoseManu96/harvest_features/blob/main/dh_interview.ipynb\" target=\"_parent\"><img src=\"https://colab.research.google.com/assets/colab-badge.svg\" alt=\"Open In Colab\"/></a>"
      ]
    },
    {
      "cell_type": "markdown",
      "source": [
        "First we read the datasets, using pandas."
      ],
      "metadata": {
        "id": "Fh1OZ0hoDNXq"
      }
    },
    {
      "cell_type": "code",
      "execution_count": 202,
      "metadata": {
        "colab": {
          "base_uri": "https://localhost:8080/",
          "height": 206
        },
        "id": "N9wboirFTbdD",
        "outputId": "96a5d7af-4700-4430-903a-0cc83eb74909"
      },
      "outputs": [
        {
          "output_type": "execute_result",
          "data": {
            "text/plain": [
              "                   created_at  cultivation_id cultivation_name  \\\n",
              "0  2020-10-26 21:20:04.316752           18902                A   \n",
              "1  2020-10-26 21:20:09.122294           18932                B   \n",
              "2  2020-10-26 21:20:21.627212           19009                C   \n",
              "3  2020-10-26 21:20:25.007851           19030                D   \n",
              "4  2020-10-26 21:20:40.866737           19129                E   \n",
              "\n",
              "                 harvest date             grow start date  yield  \n",
              "0  2020-05-23 00:00:00.000000                    04/04/19   52.4  \n",
              "1  2020-02-06 00:00:00.000000                    11/14/18  138.5  \n",
              "2  2020-05-19 00:00:00.000000  2019-03-16 00:00:00.000000   72.6  \n",
              "3  2020-02-27 00:00:00.000000  2018-12-12 00:00:00.000000  103.6  \n",
              "4  2020-01-07 00:00:00.000000  2018-10-08 00:00:00.000000  141.0  "
            ],
            "text/html": [
              "\n",
              "  <div id=\"df-03753619-a87f-4d59-aa03-063ba0ff88f2\">\n",
              "    <div class=\"colab-df-container\">\n",
              "      <div>\n",
              "<style scoped>\n",
              "    .dataframe tbody tr th:only-of-type {\n",
              "        vertical-align: middle;\n",
              "    }\n",
              "\n",
              "    .dataframe tbody tr th {\n",
              "        vertical-align: top;\n",
              "    }\n",
              "\n",
              "    .dataframe thead th {\n",
              "        text-align: right;\n",
              "    }\n",
              "</style>\n",
              "<table border=\"1\" class=\"dataframe\">\n",
              "  <thead>\n",
              "    <tr style=\"text-align: right;\">\n",
              "      <th></th>\n",
              "      <th>created_at</th>\n",
              "      <th>cultivation_id</th>\n",
              "      <th>cultivation_name</th>\n",
              "      <th>harvest date</th>\n",
              "      <th>grow start date</th>\n",
              "      <th>yield</th>\n",
              "    </tr>\n",
              "  </thead>\n",
              "  <tbody>\n",
              "    <tr>\n",
              "      <th>0</th>\n",
              "      <td>2020-10-26 21:20:04.316752</td>\n",
              "      <td>18902</td>\n",
              "      <td>A</td>\n",
              "      <td>2020-05-23 00:00:00.000000</td>\n",
              "      <td>04/04/19</td>\n",
              "      <td>52.4</td>\n",
              "    </tr>\n",
              "    <tr>\n",
              "      <th>1</th>\n",
              "      <td>2020-10-26 21:20:09.122294</td>\n",
              "      <td>18932</td>\n",
              "      <td>B</td>\n",
              "      <td>2020-02-06 00:00:00.000000</td>\n",
              "      <td>11/14/18</td>\n",
              "      <td>138.5</td>\n",
              "    </tr>\n",
              "    <tr>\n",
              "      <th>2</th>\n",
              "      <td>2020-10-26 21:20:21.627212</td>\n",
              "      <td>19009</td>\n",
              "      <td>C</td>\n",
              "      <td>2020-05-19 00:00:00.000000</td>\n",
              "      <td>2019-03-16 00:00:00.000000</td>\n",
              "      <td>72.6</td>\n",
              "    </tr>\n",
              "    <tr>\n",
              "      <th>3</th>\n",
              "      <td>2020-10-26 21:20:25.007851</td>\n",
              "      <td>19030</td>\n",
              "      <td>D</td>\n",
              "      <td>2020-02-27 00:00:00.000000</td>\n",
              "      <td>2018-12-12 00:00:00.000000</td>\n",
              "      <td>103.6</td>\n",
              "    </tr>\n",
              "    <tr>\n",
              "      <th>4</th>\n",
              "      <td>2020-10-26 21:20:40.866737</td>\n",
              "      <td>19129</td>\n",
              "      <td>E</td>\n",
              "      <td>2020-01-07 00:00:00.000000</td>\n",
              "      <td>2018-10-08 00:00:00.000000</td>\n",
              "      <td>141.0</td>\n",
              "    </tr>\n",
              "  </tbody>\n",
              "</table>\n",
              "</div>\n",
              "      <button class=\"colab-df-convert\" onclick=\"convertToInteractive('df-03753619-a87f-4d59-aa03-063ba0ff88f2')\"\n",
              "              title=\"Convert this dataframe to an interactive table.\"\n",
              "              style=\"display:none;\">\n",
              "        \n",
              "  <svg xmlns=\"http://www.w3.org/2000/svg\" height=\"24px\"viewBox=\"0 0 24 24\"\n",
              "       width=\"24px\">\n",
              "    <path d=\"M0 0h24v24H0V0z\" fill=\"none\"/>\n",
              "    <path d=\"M18.56 5.44l.94 2.06.94-2.06 2.06-.94-2.06-.94-.94-2.06-.94 2.06-2.06.94zm-11 1L8.5 8.5l.94-2.06 2.06-.94-2.06-.94L8.5 2.5l-.94 2.06-2.06.94zm10 10l.94 2.06.94-2.06 2.06-.94-2.06-.94-.94-2.06-.94 2.06-2.06.94z\"/><path d=\"M17.41 7.96l-1.37-1.37c-.4-.4-.92-.59-1.43-.59-.52 0-1.04.2-1.43.59L10.3 9.45l-7.72 7.72c-.78.78-.78 2.05 0 2.83L4 21.41c.39.39.9.59 1.41.59.51 0 1.02-.2 1.41-.59l7.78-7.78 2.81-2.81c.8-.78.8-2.07 0-2.86zM5.41 20L4 18.59l7.72-7.72 1.47 1.35L5.41 20z\"/>\n",
              "  </svg>\n",
              "      </button>\n",
              "      \n",
              "  <style>\n",
              "    .colab-df-container {\n",
              "      display:flex;\n",
              "      flex-wrap:wrap;\n",
              "      gap: 12px;\n",
              "    }\n",
              "\n",
              "    .colab-df-convert {\n",
              "      background-color: #E8F0FE;\n",
              "      border: none;\n",
              "      border-radius: 50%;\n",
              "      cursor: pointer;\n",
              "      display: none;\n",
              "      fill: #1967D2;\n",
              "      height: 32px;\n",
              "      padding: 0 0 0 0;\n",
              "      width: 32px;\n",
              "    }\n",
              "\n",
              "    .colab-df-convert:hover {\n",
              "      background-color: #E2EBFA;\n",
              "      box-shadow: 0px 1px 2px rgba(60, 64, 67, 0.3), 0px 1px 3px 1px rgba(60, 64, 67, 0.15);\n",
              "      fill: #174EA6;\n",
              "    }\n",
              "\n",
              "    [theme=dark] .colab-df-convert {\n",
              "      background-color: #3B4455;\n",
              "      fill: #D2E3FC;\n",
              "    }\n",
              "\n",
              "    [theme=dark] .colab-df-convert:hover {\n",
              "      background-color: #434B5C;\n",
              "      box-shadow: 0px 1px 3px 1px rgba(0, 0, 0, 0.15);\n",
              "      filter: drop-shadow(0px 1px 2px rgba(0, 0, 0, 0.3));\n",
              "      fill: #FFFFFF;\n",
              "    }\n",
              "  </style>\n",
              "\n",
              "      <script>\n",
              "        const buttonEl =\n",
              "          document.querySelector('#df-03753619-a87f-4d59-aa03-063ba0ff88f2 button.colab-df-convert');\n",
              "        buttonEl.style.display =\n",
              "          google.colab.kernel.accessAllowed ? 'block' : 'none';\n",
              "\n",
              "        async function convertToInteractive(key) {\n",
              "          const element = document.querySelector('#df-03753619-a87f-4d59-aa03-063ba0ff88f2');\n",
              "          const dataTable =\n",
              "            await google.colab.kernel.invokeFunction('convertToInteractive',\n",
              "                                                     [key], {});\n",
              "          if (!dataTable) return;\n",
              "\n",
              "          const docLinkHtml = 'Like what you see? Visit the ' +\n",
              "            '<a target=\"_blank\" href=https://colab.research.google.com/notebooks/data_table.ipynb>data table notebook</a>'\n",
              "            + ' to learn more about interactive tables.';\n",
              "          element.innerHTML = '';\n",
              "          dataTable['output_type'] = 'display_data';\n",
              "          await google.colab.output.renderOutput(dataTable, element);\n",
              "          const docLink = document.createElement('div');\n",
              "          docLink.innerHTML = docLinkHtml;\n",
              "          element.appendChild(docLink);\n",
              "        }\n",
              "      </script>\n",
              "    </div>\n",
              "  </div>\n",
              "  "
            ]
          },
          "metadata": {},
          "execution_count": 202
        }
      ],
      "source": [
        "import pandas as pd\n",
        "import matplotlib.pyplot as plt\n",
        "import numpy as np\n",
        "import os\n",
        "\n",
        "cultivation = pd.read_csv('cultivations.csv')\n",
        "cultivation.drop( columns = ['Unnamed: 0'], inplace = True)\n",
        "cultivation.head()\n"
      ]
    },
    {
      "cell_type": "code",
      "source": [
        "weather = pd.read_csv('weather.csv')\n",
        "weather.drop( columns = ['Unnamed: 0'], inplace = True)\n",
        "weather.head()"
      ],
      "metadata": {
        "colab": {
          "base_uri": "https://localhost:8080/",
          "height": 206
        },
        "id": "hgdC59-lTwU-",
        "outputId": "4dd9cea6-dd73-4c5a-f72c-218ef593b6bc"
      },
      "execution_count": 203,
      "outputs": [
        {
          "output_type": "execute_result",
          "data": {
            "text/plain": [
              "             observation_date  \\\n",
              "0  2018-08-17 04:00:00.000000   \n",
              "1  2018-08-16 04:00:00.000000   \n",
              "2  2018-08-15 04:00:00.000000   \n",
              "3  2018-08-14 04:00:00.000000   \n",
              "4  2018-08-13 04:00:00.000000   \n",
              "\n",
              "                                        weather_data  cultivation_id  \n",
              "0  {'et': 5.000000000000001, 'prcp': 0.0, 'tmax':...            1912  \n",
              "1  {'et': 4.8900000000000015, 'prcp': 50.73, 'tma...            1912  \n",
              "2  {'et': 4.380000000000001, 'prcp': 37.83, 'tmax...            1912  \n",
              "3  {'et': 4.05, 'prcp': 4.41, 'tmax': 35.9, 'tmin...            1912  \n",
              "4  {'et': 4.81, 'prcp': 0.77, 'tmax': 34.7, 'tmin...            1912  "
            ],
            "text/html": [
              "\n",
              "  <div id=\"df-be7a859d-a279-4ac0-8161-67354429bf98\">\n",
              "    <div class=\"colab-df-container\">\n",
              "      <div>\n",
              "<style scoped>\n",
              "    .dataframe tbody tr th:only-of-type {\n",
              "        vertical-align: middle;\n",
              "    }\n",
              "\n",
              "    .dataframe tbody tr th {\n",
              "        vertical-align: top;\n",
              "    }\n",
              "\n",
              "    .dataframe thead th {\n",
              "        text-align: right;\n",
              "    }\n",
              "</style>\n",
              "<table border=\"1\" class=\"dataframe\">\n",
              "  <thead>\n",
              "    <tr style=\"text-align: right;\">\n",
              "      <th></th>\n",
              "      <th>observation_date</th>\n",
              "      <th>weather_data</th>\n",
              "      <th>cultivation_id</th>\n",
              "    </tr>\n",
              "  </thead>\n",
              "  <tbody>\n",
              "    <tr>\n",
              "      <th>0</th>\n",
              "      <td>2018-08-17 04:00:00.000000</td>\n",
              "      <td>{'et': 5.000000000000001, 'prcp': 0.0, 'tmax':...</td>\n",
              "      <td>1912</td>\n",
              "    </tr>\n",
              "    <tr>\n",
              "      <th>1</th>\n",
              "      <td>2018-08-16 04:00:00.000000</td>\n",
              "      <td>{'et': 4.8900000000000015, 'prcp': 50.73, 'tma...</td>\n",
              "      <td>1912</td>\n",
              "    </tr>\n",
              "    <tr>\n",
              "      <th>2</th>\n",
              "      <td>2018-08-15 04:00:00.000000</td>\n",
              "      <td>{'et': 4.380000000000001, 'prcp': 37.83, 'tmax...</td>\n",
              "      <td>1912</td>\n",
              "    </tr>\n",
              "    <tr>\n",
              "      <th>3</th>\n",
              "      <td>2018-08-14 04:00:00.000000</td>\n",
              "      <td>{'et': 4.05, 'prcp': 4.41, 'tmax': 35.9, 'tmin...</td>\n",
              "      <td>1912</td>\n",
              "    </tr>\n",
              "    <tr>\n",
              "      <th>4</th>\n",
              "      <td>2018-08-13 04:00:00.000000</td>\n",
              "      <td>{'et': 4.81, 'prcp': 0.77, 'tmax': 34.7, 'tmin...</td>\n",
              "      <td>1912</td>\n",
              "    </tr>\n",
              "  </tbody>\n",
              "</table>\n",
              "</div>\n",
              "      <button class=\"colab-df-convert\" onclick=\"convertToInteractive('df-be7a859d-a279-4ac0-8161-67354429bf98')\"\n",
              "              title=\"Convert this dataframe to an interactive table.\"\n",
              "              style=\"display:none;\">\n",
              "        \n",
              "  <svg xmlns=\"http://www.w3.org/2000/svg\" height=\"24px\"viewBox=\"0 0 24 24\"\n",
              "       width=\"24px\">\n",
              "    <path d=\"M0 0h24v24H0V0z\" fill=\"none\"/>\n",
              "    <path d=\"M18.56 5.44l.94 2.06.94-2.06 2.06-.94-2.06-.94-.94-2.06-.94 2.06-2.06.94zm-11 1L8.5 8.5l.94-2.06 2.06-.94-2.06-.94L8.5 2.5l-.94 2.06-2.06.94zm10 10l.94 2.06.94-2.06 2.06-.94-2.06-.94-.94-2.06-.94 2.06-2.06.94z\"/><path d=\"M17.41 7.96l-1.37-1.37c-.4-.4-.92-.59-1.43-.59-.52 0-1.04.2-1.43.59L10.3 9.45l-7.72 7.72c-.78.78-.78 2.05 0 2.83L4 21.41c.39.39.9.59 1.41.59.51 0 1.02-.2 1.41-.59l7.78-7.78 2.81-2.81c.8-.78.8-2.07 0-2.86zM5.41 20L4 18.59l7.72-7.72 1.47 1.35L5.41 20z\"/>\n",
              "  </svg>\n",
              "      </button>\n",
              "      \n",
              "  <style>\n",
              "    .colab-df-container {\n",
              "      display:flex;\n",
              "      flex-wrap:wrap;\n",
              "      gap: 12px;\n",
              "    }\n",
              "\n",
              "    .colab-df-convert {\n",
              "      background-color: #E8F0FE;\n",
              "      border: none;\n",
              "      border-radius: 50%;\n",
              "      cursor: pointer;\n",
              "      display: none;\n",
              "      fill: #1967D2;\n",
              "      height: 32px;\n",
              "      padding: 0 0 0 0;\n",
              "      width: 32px;\n",
              "    }\n",
              "\n",
              "    .colab-df-convert:hover {\n",
              "      background-color: #E2EBFA;\n",
              "      box-shadow: 0px 1px 2px rgba(60, 64, 67, 0.3), 0px 1px 3px 1px rgba(60, 64, 67, 0.15);\n",
              "      fill: #174EA6;\n",
              "    }\n",
              "\n",
              "    [theme=dark] .colab-df-convert {\n",
              "      background-color: #3B4455;\n",
              "      fill: #D2E3FC;\n",
              "    }\n",
              "\n",
              "    [theme=dark] .colab-df-convert:hover {\n",
              "      background-color: #434B5C;\n",
              "      box-shadow: 0px 1px 3px 1px rgba(0, 0, 0, 0.15);\n",
              "      filter: drop-shadow(0px 1px 2px rgba(0, 0, 0, 0.3));\n",
              "      fill: #FFFFFF;\n",
              "    }\n",
              "  </style>\n",
              "\n",
              "      <script>\n",
              "        const buttonEl =\n",
              "          document.querySelector('#df-be7a859d-a279-4ac0-8161-67354429bf98 button.colab-df-convert');\n",
              "        buttonEl.style.display =\n",
              "          google.colab.kernel.accessAllowed ? 'block' : 'none';\n",
              "\n",
              "        async function convertToInteractive(key) {\n",
              "          const element = document.querySelector('#df-be7a859d-a279-4ac0-8161-67354429bf98');\n",
              "          const dataTable =\n",
              "            await google.colab.kernel.invokeFunction('convertToInteractive',\n",
              "                                                     [key], {});\n",
              "          if (!dataTable) return;\n",
              "\n",
              "          const docLinkHtml = 'Like what you see? Visit the ' +\n",
              "            '<a target=\"_blank\" href=https://colab.research.google.com/notebooks/data_table.ipynb>data table notebook</a>'\n",
              "            + ' to learn more about interactive tables.';\n",
              "          element.innerHTML = '';\n",
              "          dataTable['output_type'] = 'display_data';\n",
              "          await google.colab.output.renderOutput(dataTable, element);\n",
              "          const docLink = document.createElement('div');\n",
              "          docLink.innerHTML = docLinkHtml;\n",
              "          element.appendChild(docLink);\n",
              "        }\n",
              "      </script>\n",
              "    </div>\n",
              "  </div>\n",
              "  "
            ]
          },
          "metadata": {},
          "execution_count": 203
        }
      ]
    },
    {
      "cell_type": "code",
      "source": [
        "msavi_mean = pd.read_csv('msavi_mean.csv')\n",
        "msavi_mean.drop( columns = ['Unnamed: 0'], inplace = True)\n",
        "msavi_mean.head()"
      ],
      "metadata": {
        "colab": {
          "base_uri": "https://localhost:8080/",
          "height": 206
        },
        "id": "cnJjBThVWLsW",
        "outputId": "622f6236-e096-41da-9235-b9ca523bccfb"
      },
      "execution_count": 204,
      "outputs": [
        {
          "output_type": "execute_result",
          "data": {
            "text/plain": [
              "             observation_date  \\\n",
              "0  2019-10-23 16:06:02.085467   \n",
              "1  2020-06-27 16:15:56.338923   \n",
              "2  2019-10-23 16:06:02.085467   \n",
              "3  2020-06-02 16:16:00.038355   \n",
              "4  2019-10-23 16:06:02.085467   \n",
              "\n",
              "                                           meta_data  cultivation_id  \\\n",
              "0  {'pixel_count': 1088, 'unmasked_count': 0.0, '...           18902   \n",
              "1  {'pixel_count': 3636, 'unmasked_count': 3636.0...           18932   \n",
              "2  {'pixel_count': 1546, 'unmasked_count': 0.0, '...           19009   \n",
              "3  {'pixel_count': 1088, 'unmasked_count': 0.0, '...           18902   \n",
              "4  {'pixel_count': 3356, 'unmasked_count': 0.0, '...           19030   \n",
              "\n",
              "   data_value  \n",
              "0         NaN  \n",
              "1     0.63542  \n",
              "2         NaN  \n",
              "3         NaN  \n",
              "4         NaN  "
            ],
            "text/html": [
              "\n",
              "  <div id=\"df-113af422-6dcb-499d-b941-03024e22bd58\">\n",
              "    <div class=\"colab-df-container\">\n",
              "      <div>\n",
              "<style scoped>\n",
              "    .dataframe tbody tr th:only-of-type {\n",
              "        vertical-align: middle;\n",
              "    }\n",
              "\n",
              "    .dataframe tbody tr th {\n",
              "        vertical-align: top;\n",
              "    }\n",
              "\n",
              "    .dataframe thead th {\n",
              "        text-align: right;\n",
              "    }\n",
              "</style>\n",
              "<table border=\"1\" class=\"dataframe\">\n",
              "  <thead>\n",
              "    <tr style=\"text-align: right;\">\n",
              "      <th></th>\n",
              "      <th>observation_date</th>\n",
              "      <th>meta_data</th>\n",
              "      <th>cultivation_id</th>\n",
              "      <th>data_value</th>\n",
              "    </tr>\n",
              "  </thead>\n",
              "  <tbody>\n",
              "    <tr>\n",
              "      <th>0</th>\n",
              "      <td>2019-10-23 16:06:02.085467</td>\n",
              "      <td>{'pixel_count': 1088, 'unmasked_count': 0.0, '...</td>\n",
              "      <td>18902</td>\n",
              "      <td>NaN</td>\n",
              "    </tr>\n",
              "    <tr>\n",
              "      <th>1</th>\n",
              "      <td>2020-06-27 16:15:56.338923</td>\n",
              "      <td>{'pixel_count': 3636, 'unmasked_count': 3636.0...</td>\n",
              "      <td>18932</td>\n",
              "      <td>0.63542</td>\n",
              "    </tr>\n",
              "    <tr>\n",
              "      <th>2</th>\n",
              "      <td>2019-10-23 16:06:02.085467</td>\n",
              "      <td>{'pixel_count': 1546, 'unmasked_count': 0.0, '...</td>\n",
              "      <td>19009</td>\n",
              "      <td>NaN</td>\n",
              "    </tr>\n",
              "    <tr>\n",
              "      <th>3</th>\n",
              "      <td>2020-06-02 16:16:00.038355</td>\n",
              "      <td>{'pixel_count': 1088, 'unmasked_count': 0.0, '...</td>\n",
              "      <td>18902</td>\n",
              "      <td>NaN</td>\n",
              "    </tr>\n",
              "    <tr>\n",
              "      <th>4</th>\n",
              "      <td>2019-10-23 16:06:02.085467</td>\n",
              "      <td>{'pixel_count': 3356, 'unmasked_count': 0.0, '...</td>\n",
              "      <td>19030</td>\n",
              "      <td>NaN</td>\n",
              "    </tr>\n",
              "  </tbody>\n",
              "</table>\n",
              "</div>\n",
              "      <button class=\"colab-df-convert\" onclick=\"convertToInteractive('df-113af422-6dcb-499d-b941-03024e22bd58')\"\n",
              "              title=\"Convert this dataframe to an interactive table.\"\n",
              "              style=\"display:none;\">\n",
              "        \n",
              "  <svg xmlns=\"http://www.w3.org/2000/svg\" height=\"24px\"viewBox=\"0 0 24 24\"\n",
              "       width=\"24px\">\n",
              "    <path d=\"M0 0h24v24H0V0z\" fill=\"none\"/>\n",
              "    <path d=\"M18.56 5.44l.94 2.06.94-2.06 2.06-.94-2.06-.94-.94-2.06-.94 2.06-2.06.94zm-11 1L8.5 8.5l.94-2.06 2.06-.94-2.06-.94L8.5 2.5l-.94 2.06-2.06.94zm10 10l.94 2.06.94-2.06 2.06-.94-2.06-.94-.94-2.06-.94 2.06-2.06.94z\"/><path d=\"M17.41 7.96l-1.37-1.37c-.4-.4-.92-.59-1.43-.59-.52 0-1.04.2-1.43.59L10.3 9.45l-7.72 7.72c-.78.78-.78 2.05 0 2.83L4 21.41c.39.39.9.59 1.41.59.51 0 1.02-.2 1.41-.59l7.78-7.78 2.81-2.81c.8-.78.8-2.07 0-2.86zM5.41 20L4 18.59l7.72-7.72 1.47 1.35L5.41 20z\"/>\n",
              "  </svg>\n",
              "      </button>\n",
              "      \n",
              "  <style>\n",
              "    .colab-df-container {\n",
              "      display:flex;\n",
              "      flex-wrap:wrap;\n",
              "      gap: 12px;\n",
              "    }\n",
              "\n",
              "    .colab-df-convert {\n",
              "      background-color: #E8F0FE;\n",
              "      border: none;\n",
              "      border-radius: 50%;\n",
              "      cursor: pointer;\n",
              "      display: none;\n",
              "      fill: #1967D2;\n",
              "      height: 32px;\n",
              "      padding: 0 0 0 0;\n",
              "      width: 32px;\n",
              "    }\n",
              "\n",
              "    .colab-df-convert:hover {\n",
              "      background-color: #E2EBFA;\n",
              "      box-shadow: 0px 1px 2px rgba(60, 64, 67, 0.3), 0px 1px 3px 1px rgba(60, 64, 67, 0.15);\n",
              "      fill: #174EA6;\n",
              "    }\n",
              "\n",
              "    [theme=dark] .colab-df-convert {\n",
              "      background-color: #3B4455;\n",
              "      fill: #D2E3FC;\n",
              "    }\n",
              "\n",
              "    [theme=dark] .colab-df-convert:hover {\n",
              "      background-color: #434B5C;\n",
              "      box-shadow: 0px 1px 3px 1px rgba(0, 0, 0, 0.15);\n",
              "      filter: drop-shadow(0px 1px 2px rgba(0, 0, 0, 0.3));\n",
              "      fill: #FFFFFF;\n",
              "    }\n",
              "  </style>\n",
              "\n",
              "      <script>\n",
              "        const buttonEl =\n",
              "          document.querySelector('#df-113af422-6dcb-499d-b941-03024e22bd58 button.colab-df-convert');\n",
              "        buttonEl.style.display =\n",
              "          google.colab.kernel.accessAllowed ? 'block' : 'none';\n",
              "\n",
              "        async function convertToInteractive(key) {\n",
              "          const element = document.querySelector('#df-113af422-6dcb-499d-b941-03024e22bd58');\n",
              "          const dataTable =\n",
              "            await google.colab.kernel.invokeFunction('convertToInteractive',\n",
              "                                                     [key], {});\n",
              "          if (!dataTable) return;\n",
              "\n",
              "          const docLinkHtml = 'Like what you see? Visit the ' +\n",
              "            '<a target=\"_blank\" href=https://colab.research.google.com/notebooks/data_table.ipynb>data table notebook</a>'\n",
              "            + ' to learn more about interactive tables.';\n",
              "          element.innerHTML = '';\n",
              "          dataTable['output_type'] = 'display_data';\n",
              "          await google.colab.output.renderOutput(dataTable, element);\n",
              "          const docLink = document.createElement('div');\n",
              "          docLink.innerHTML = docLinkHtml;\n",
              "          element.appendChild(docLink);\n",
              "        }\n",
              "      </script>\n",
              "    </div>\n",
              "  </div>\n",
              "  "
            ]
          },
          "metadata": {},
          "execution_count": 204
        }
      ]
    },
    {
      "cell_type": "markdown",
      "source": [
        "Missing values analysis"
      ],
      "metadata": {
        "id": "IGZ5hhrqptS7"
      }
    },
    {
      "cell_type": "code",
      "source": [
        "cultivation.isna().sum().sum()"
      ],
      "metadata": {
        "colab": {
          "base_uri": "https://localhost:8080/"
        },
        "id": "nD0mIeVDpyoz",
        "outputId": "5c03bfa8-bf28-4e72-f97c-a6342d917332"
      },
      "execution_count": 205,
      "outputs": [
        {
          "output_type": "execute_result",
          "data": {
            "text/plain": [
              "0"
            ]
          },
          "metadata": {},
          "execution_count": 205
        }
      ]
    },
    {
      "cell_type": "code",
      "source": [
        "weather.isna().sum().sum()"
      ],
      "metadata": {
        "colab": {
          "base_uri": "https://localhost:8080/"
        },
        "id": "G5i8ncEEp0LR",
        "outputId": "fe980d26-65c3-467b-ec1d-3c6c65506feb"
      },
      "execution_count": 206,
      "outputs": [
        {
          "output_type": "execute_result",
          "data": {
            "text/plain": [
              "0"
            ]
          },
          "metadata": {},
          "execution_count": 206
        }
      ]
    },
    {
      "cell_type": "code",
      "source": [
        "msavi_mean.isna().sum().sum()"
      ],
      "metadata": {
        "colab": {
          "base_uri": "https://localhost:8080/"
        },
        "id": "rfnf_T8mp28Z",
        "outputId": "41375c58-395e-441e-82ce-0aac005436ca"
      },
      "execution_count": 207,
      "outputs": [
        {
          "output_type": "execute_result",
          "data": {
            "text/plain": [
              "741"
            ]
          },
          "metadata": {},
          "execution_count": 207
        }
      ]
    },
    {
      "cell_type": "markdown",
      "source": [
        "We know that msavi_mean has missing values, let's take a look to the number of missing values per columns"
      ],
      "metadata": {
        "id": "fmz5Vh6gqgee"
      }
    },
    {
      "cell_type": "code",
      "source": [
        "msavi_mean['observation_date'].isna().sum()"
      ],
      "metadata": {
        "colab": {
          "base_uri": "https://localhost:8080/"
        },
        "id": "l_onMkxap8ub",
        "outputId": "bb204bec-af6e-48b6-b748-17e518c1a44d"
      },
      "execution_count": 208,
      "outputs": [
        {
          "output_type": "execute_result",
          "data": {
            "text/plain": [
              "0"
            ]
          },
          "metadata": {},
          "execution_count": 208
        }
      ]
    },
    {
      "cell_type": "code",
      "source": [
        "msavi_mean['meta_data'].isna().sum()"
      ],
      "metadata": {
        "colab": {
          "base_uri": "https://localhost:8080/"
        },
        "id": "dG0BEiNpqPbI",
        "outputId": "0edbb982-70d8-4949-cc15-ee1ecf0655e6"
      },
      "execution_count": 209,
      "outputs": [
        {
          "output_type": "execute_result",
          "data": {
            "text/plain": [
              "0"
            ]
          },
          "metadata": {},
          "execution_count": 209
        }
      ]
    },
    {
      "cell_type": "code",
      "source": [
        "msavi_mean['cultivation_id'].isna().sum()"
      ],
      "metadata": {
        "colab": {
          "base_uri": "https://localhost:8080/"
        },
        "id": "SQNLRYCPqSs_",
        "outputId": "1f49b010-56b9-42f7-ff8a-0ada41315c73"
      },
      "execution_count": 210,
      "outputs": [
        {
          "output_type": "execute_result",
          "data": {
            "text/plain": [
              "0"
            ]
          },
          "metadata": {},
          "execution_count": 210
        }
      ]
    },
    {
      "cell_type": "code",
      "source": [
        "msavi_mean['data_value'].isna().sum()"
      ],
      "metadata": {
        "colab": {
          "base_uri": "https://localhost:8080/"
        },
        "id": "vvK1xuTFqXrv",
        "outputId": "9531c434-2683-4f52-a1aa-5ca44c00487b"
      },
      "execution_count": 211,
      "outputs": [
        {
          "output_type": "execute_result",
          "data": {
            "text/plain": [
              "741"
            ]
          },
          "metadata": {},
          "execution_count": 211
        }
      ]
    },
    {
      "cell_type": "markdown",
      "source": [
        "The column \"data_value\" is the one who has the missing values. The next thing to do is replace that missing values or remove them "
      ],
      "metadata": {
        "id": "IbWG81FYq4v-"
      }
    },
    {
      "cell_type": "code",
      "source": [
        "# We replace the nan values with the meadian\n",
        "\n",
        "msavi_mean = msavi_mean.fillna(msavi_mean.median())"
      ],
      "metadata": {
        "colab": {
          "base_uri": "https://localhost:8080/"
        },
        "id": "LzB-li_2q3J2",
        "outputId": "612ba5f3-ec3b-483f-f4ab-fb5db6ddf7bf"
      },
      "execution_count": 212,
      "outputs": [
        {
          "output_type": "stream",
          "name": "stderr",
          "text": [
            "/usr/local/lib/python3.7/dist-packages/ipykernel_launcher.py:3: FutureWarning: Dropping of nuisance columns in DataFrame reductions (with 'numeric_only=None') is deprecated; in a future version this will raise TypeError.  Select only valid columns before calling the reduction.\n",
            "  This is separate from the ipykernel package so we can avoid doing imports until\n"
          ]
        }
      ]
    },
    {
      "cell_type": "code",
      "source": [
        "msavi_mean['data_value']"
      ],
      "metadata": {
        "colab": {
          "base_uri": "https://localhost:8080/"
        },
        "id": "BxxDZTzNr-4p",
        "outputId": "f3de8a0f-18bc-44b3-e641-a2694f9d971a"
      },
      "execution_count": 213,
      "outputs": [
        {
          "output_type": "execute_result",
          "data": {
            "text/plain": [
              "0       0.451015\n",
              "1       0.635420\n",
              "2       0.451015\n",
              "3       0.451015\n",
              "4       0.451015\n",
              "          ...   \n",
              "2671    0.080866\n",
              "2672    0.451015\n",
              "2673    0.451015\n",
              "2674    0.451015\n",
              "2675    0.451015\n",
              "Name: data_value, Length: 2676, dtype: float64"
            ]
          },
          "metadata": {},
          "execution_count": 213
        }
      ]
    },
    {
      "cell_type": "markdown",
      "source": [
        "Label encoding"
      ],
      "metadata": {
        "id": "Dh0HjykPwTDH"
      }
    },
    {
      "cell_type": "code",
      "source": [
        "# converting type of columns to 'category'\n",
        "cultivation['cultivation_name'] = cultivation['cultivation_name'].astype('category')\n",
        "\n",
        "# Assigning numerical values and storing in another column\n",
        "cultivation['cultivation_name_cat'] = cultivation['cultivation_name'].cat.codes\n",
        "cultivation.drop( columns = ['cultivation_name'], inplace = True)\n",
        "cultivation\n",
        "\n",
        "# The previus step assign numbers to letters, for example: 0 = A, 1 = B, ..."
      ],
      "metadata": {
        "colab": {
          "base_uri": "https://localhost:8080/",
          "height": 206
        },
        "id": "GaBgrD1swayw",
        "outputId": "5d907c95-6640-43d4-c93b-f96f191222e1"
      },
      "execution_count": 214,
      "outputs": [
        {
          "output_type": "execute_result",
          "data": {
            "text/plain": [
              "                   created_at  cultivation_id                harvest date  \\\n",
              "0  2020-10-26 21:20:04.316752           18902  2020-05-23 00:00:00.000000   \n",
              "1  2020-10-26 21:20:09.122294           18932  2020-02-06 00:00:00.000000   \n",
              "2  2020-10-26 21:20:21.627212           19009  2020-05-19 00:00:00.000000   \n",
              "3  2020-10-26 21:20:25.007851           19030  2020-02-27 00:00:00.000000   \n",
              "4  2020-10-26 21:20:40.866737           19129  2020-01-07 00:00:00.000000   \n",
              "\n",
              "              grow start date  yield  cultivation_name_cat  \n",
              "0                    04/04/19   52.4                     0  \n",
              "1                    11/14/18  138.5                     1  \n",
              "2  2019-03-16 00:00:00.000000   72.6                     2  \n",
              "3  2018-12-12 00:00:00.000000  103.6                     3  \n",
              "4  2018-10-08 00:00:00.000000  141.0                     4  "
            ],
            "text/html": [
              "\n",
              "  <div id=\"df-9619ee9c-9940-4bd2-9e68-6965f94e44a9\">\n",
              "    <div class=\"colab-df-container\">\n",
              "      <div>\n",
              "<style scoped>\n",
              "    .dataframe tbody tr th:only-of-type {\n",
              "        vertical-align: middle;\n",
              "    }\n",
              "\n",
              "    .dataframe tbody tr th {\n",
              "        vertical-align: top;\n",
              "    }\n",
              "\n",
              "    .dataframe thead th {\n",
              "        text-align: right;\n",
              "    }\n",
              "</style>\n",
              "<table border=\"1\" class=\"dataframe\">\n",
              "  <thead>\n",
              "    <tr style=\"text-align: right;\">\n",
              "      <th></th>\n",
              "      <th>created_at</th>\n",
              "      <th>cultivation_id</th>\n",
              "      <th>harvest date</th>\n",
              "      <th>grow start date</th>\n",
              "      <th>yield</th>\n",
              "      <th>cultivation_name_cat</th>\n",
              "    </tr>\n",
              "  </thead>\n",
              "  <tbody>\n",
              "    <tr>\n",
              "      <th>0</th>\n",
              "      <td>2020-10-26 21:20:04.316752</td>\n",
              "      <td>18902</td>\n",
              "      <td>2020-05-23 00:00:00.000000</td>\n",
              "      <td>04/04/19</td>\n",
              "      <td>52.4</td>\n",
              "      <td>0</td>\n",
              "    </tr>\n",
              "    <tr>\n",
              "      <th>1</th>\n",
              "      <td>2020-10-26 21:20:09.122294</td>\n",
              "      <td>18932</td>\n",
              "      <td>2020-02-06 00:00:00.000000</td>\n",
              "      <td>11/14/18</td>\n",
              "      <td>138.5</td>\n",
              "      <td>1</td>\n",
              "    </tr>\n",
              "    <tr>\n",
              "      <th>2</th>\n",
              "      <td>2020-10-26 21:20:21.627212</td>\n",
              "      <td>19009</td>\n",
              "      <td>2020-05-19 00:00:00.000000</td>\n",
              "      <td>2019-03-16 00:00:00.000000</td>\n",
              "      <td>72.6</td>\n",
              "      <td>2</td>\n",
              "    </tr>\n",
              "    <tr>\n",
              "      <th>3</th>\n",
              "      <td>2020-10-26 21:20:25.007851</td>\n",
              "      <td>19030</td>\n",
              "      <td>2020-02-27 00:00:00.000000</td>\n",
              "      <td>2018-12-12 00:00:00.000000</td>\n",
              "      <td>103.6</td>\n",
              "      <td>3</td>\n",
              "    </tr>\n",
              "    <tr>\n",
              "      <th>4</th>\n",
              "      <td>2020-10-26 21:20:40.866737</td>\n",
              "      <td>19129</td>\n",
              "      <td>2020-01-07 00:00:00.000000</td>\n",
              "      <td>2018-10-08 00:00:00.000000</td>\n",
              "      <td>141.0</td>\n",
              "      <td>4</td>\n",
              "    </tr>\n",
              "  </tbody>\n",
              "</table>\n",
              "</div>\n",
              "      <button class=\"colab-df-convert\" onclick=\"convertToInteractive('df-9619ee9c-9940-4bd2-9e68-6965f94e44a9')\"\n",
              "              title=\"Convert this dataframe to an interactive table.\"\n",
              "              style=\"display:none;\">\n",
              "        \n",
              "  <svg xmlns=\"http://www.w3.org/2000/svg\" height=\"24px\"viewBox=\"0 0 24 24\"\n",
              "       width=\"24px\">\n",
              "    <path d=\"M0 0h24v24H0V0z\" fill=\"none\"/>\n",
              "    <path d=\"M18.56 5.44l.94 2.06.94-2.06 2.06-.94-2.06-.94-.94-2.06-.94 2.06-2.06.94zm-11 1L8.5 8.5l.94-2.06 2.06-.94-2.06-.94L8.5 2.5l-.94 2.06-2.06.94zm10 10l.94 2.06.94-2.06 2.06-.94-2.06-.94-.94-2.06-.94 2.06-2.06.94z\"/><path d=\"M17.41 7.96l-1.37-1.37c-.4-.4-.92-.59-1.43-.59-.52 0-1.04.2-1.43.59L10.3 9.45l-7.72 7.72c-.78.78-.78 2.05 0 2.83L4 21.41c.39.39.9.59 1.41.59.51 0 1.02-.2 1.41-.59l7.78-7.78 2.81-2.81c.8-.78.8-2.07 0-2.86zM5.41 20L4 18.59l7.72-7.72 1.47 1.35L5.41 20z\"/>\n",
              "  </svg>\n",
              "      </button>\n",
              "      \n",
              "  <style>\n",
              "    .colab-df-container {\n",
              "      display:flex;\n",
              "      flex-wrap:wrap;\n",
              "      gap: 12px;\n",
              "    }\n",
              "\n",
              "    .colab-df-convert {\n",
              "      background-color: #E8F0FE;\n",
              "      border: none;\n",
              "      border-radius: 50%;\n",
              "      cursor: pointer;\n",
              "      display: none;\n",
              "      fill: #1967D2;\n",
              "      height: 32px;\n",
              "      padding: 0 0 0 0;\n",
              "      width: 32px;\n",
              "    }\n",
              "\n",
              "    .colab-df-convert:hover {\n",
              "      background-color: #E2EBFA;\n",
              "      box-shadow: 0px 1px 2px rgba(60, 64, 67, 0.3), 0px 1px 3px 1px rgba(60, 64, 67, 0.15);\n",
              "      fill: #174EA6;\n",
              "    }\n",
              "\n",
              "    [theme=dark] .colab-df-convert {\n",
              "      background-color: #3B4455;\n",
              "      fill: #D2E3FC;\n",
              "    }\n",
              "\n",
              "    [theme=dark] .colab-df-convert:hover {\n",
              "      background-color: #434B5C;\n",
              "      box-shadow: 0px 1px 3px 1px rgba(0, 0, 0, 0.15);\n",
              "      filter: drop-shadow(0px 1px 2px rgba(0, 0, 0, 0.3));\n",
              "      fill: #FFFFFF;\n",
              "    }\n",
              "  </style>\n",
              "\n",
              "      <script>\n",
              "        const buttonEl =\n",
              "          document.querySelector('#df-9619ee9c-9940-4bd2-9e68-6965f94e44a9 button.colab-df-convert');\n",
              "        buttonEl.style.display =\n",
              "          google.colab.kernel.accessAllowed ? 'block' : 'none';\n",
              "\n",
              "        async function convertToInteractive(key) {\n",
              "          const element = document.querySelector('#df-9619ee9c-9940-4bd2-9e68-6965f94e44a9');\n",
              "          const dataTable =\n",
              "            await google.colab.kernel.invokeFunction('convertToInteractive',\n",
              "                                                     [key], {});\n",
              "          if (!dataTable) return;\n",
              "\n",
              "          const docLinkHtml = 'Like what you see? Visit the ' +\n",
              "            '<a target=\"_blank\" href=https://colab.research.google.com/notebooks/data_table.ipynb>data table notebook</a>'\n",
              "            + ' to learn more about interactive tables.';\n",
              "          element.innerHTML = '';\n",
              "          dataTable['output_type'] = 'display_data';\n",
              "          await google.colab.output.renderOutput(dataTable, element);\n",
              "          const docLink = document.createElement('div');\n",
              "          docLink.innerHTML = docLinkHtml;\n",
              "          element.appendChild(docLink);\n",
              "        }\n",
              "      </script>\n",
              "    </div>\n",
              "  </div>\n",
              "  "
            ]
          },
          "metadata": {},
          "execution_count": 214
        }
      ]
    },
    {
      "cell_type": "markdown",
      "source": [
        "Date and time extraction."
      ],
      "metadata": {
        "id": "o72IfSMbDcQa"
      }
    },
    {
      "cell_type": "code",
      "source": [
        "# Now we convert the columns with date and time to a datatime object\n",
        "# and then we extract the info obtaining new features :\n",
        "\n",
        "def date_time(df,col_name, new_name):\n",
        "  df[col_name] = pd.to_datetime(df[col_name])\n",
        "  df[new_name + '_day'] = df[col_name].dt.day\n",
        "  df[new_name + '_month'] = df[col_name].dt.month\n",
        "  df[new_name + '_year'] = df[col_name].dt.year\n",
        "  df[new_name + '_hour'] = df[col_name].dt.hour\n",
        "  df[new_name + '_minute'] = df[col_name].dt.minute\n",
        "  df[new_name + '_second'] = df[col_name].dt.second\n",
        "  df[col_name] = df[col_name].dt.date\n",
        "  return df\n"
      ],
      "metadata": {
        "id": "dAlaEqLuPZPG"
      },
      "execution_count": 215,
      "outputs": []
    },
    {
      "cell_type": "code",
      "source": [
        "date_time(cultivation,'created_at', 'creation')\n",
        "date_time(cultivation,'harvest date', 'harvest')\n",
        "date_time(cultivation,'grow start date', 'grow start')"
      ],
      "metadata": {
        "colab": {
          "base_uri": "https://localhost:8080/",
          "height": 421
        },
        "id": "aXdJ8vfzTIwo",
        "outputId": "df0402f9-19c3-492f-f16e-6b6b6ec65f69"
      },
      "execution_count": 216,
      "outputs": [
        {
          "output_type": "execute_result",
          "data": {
            "text/plain": [
              "   created_at  cultivation_id harvest date grow start date  yield  \\\n",
              "0  2020-10-26           18902   2020-05-23      2019-04-04   52.4   \n",
              "1  2020-10-26           18932   2020-02-06      2018-11-14  138.5   \n",
              "2  2020-10-26           19009   2020-05-19      2019-03-16   72.6   \n",
              "3  2020-10-26           19030   2020-02-27      2018-12-12  103.6   \n",
              "4  2020-10-26           19129   2020-01-07      2018-10-08  141.0   \n",
              "\n",
              "   cultivation_name_cat  creation_day  creation_month  creation_year  \\\n",
              "0                     0            26              10           2020   \n",
              "1                     1            26              10           2020   \n",
              "2                     2            26              10           2020   \n",
              "3                     3            26              10           2020   \n",
              "4                     4            26              10           2020   \n",
              "\n",
              "   creation_hour  ...  harvest_year  harvest_hour  harvest_minute  \\\n",
              "0             21  ...          2020             0               0   \n",
              "1             21  ...          2020             0               0   \n",
              "2             21  ...          2020             0               0   \n",
              "3             21  ...          2020             0               0   \n",
              "4             21  ...          2020             0               0   \n",
              "\n",
              "   harvest_second  grow start_day  grow start_month  grow start_year  \\\n",
              "0               0               4                 4             2019   \n",
              "1               0              14                11             2018   \n",
              "2               0              16                 3             2019   \n",
              "3               0              12                12             2018   \n",
              "4               0               8                10             2018   \n",
              "\n",
              "   grow start_hour  grow start_minute  grow start_second  \n",
              "0                0                  0                  0  \n",
              "1                0                  0                  0  \n",
              "2                0                  0                  0  \n",
              "3                0                  0                  0  \n",
              "4                0                  0                  0  \n",
              "\n",
              "[5 rows x 24 columns]"
            ],
            "text/html": [
              "\n",
              "  <div id=\"df-d67f633c-2e52-4c69-aa5a-e632c1463102\">\n",
              "    <div class=\"colab-df-container\">\n",
              "      <div>\n",
              "<style scoped>\n",
              "    .dataframe tbody tr th:only-of-type {\n",
              "        vertical-align: middle;\n",
              "    }\n",
              "\n",
              "    .dataframe tbody tr th {\n",
              "        vertical-align: top;\n",
              "    }\n",
              "\n",
              "    .dataframe thead th {\n",
              "        text-align: right;\n",
              "    }\n",
              "</style>\n",
              "<table border=\"1\" class=\"dataframe\">\n",
              "  <thead>\n",
              "    <tr style=\"text-align: right;\">\n",
              "      <th></th>\n",
              "      <th>created_at</th>\n",
              "      <th>cultivation_id</th>\n",
              "      <th>harvest date</th>\n",
              "      <th>grow start date</th>\n",
              "      <th>yield</th>\n",
              "      <th>cultivation_name_cat</th>\n",
              "      <th>creation_day</th>\n",
              "      <th>creation_month</th>\n",
              "      <th>creation_year</th>\n",
              "      <th>creation_hour</th>\n",
              "      <th>...</th>\n",
              "      <th>harvest_year</th>\n",
              "      <th>harvest_hour</th>\n",
              "      <th>harvest_minute</th>\n",
              "      <th>harvest_second</th>\n",
              "      <th>grow start_day</th>\n",
              "      <th>grow start_month</th>\n",
              "      <th>grow start_year</th>\n",
              "      <th>grow start_hour</th>\n",
              "      <th>grow start_minute</th>\n",
              "      <th>grow start_second</th>\n",
              "    </tr>\n",
              "  </thead>\n",
              "  <tbody>\n",
              "    <tr>\n",
              "      <th>0</th>\n",
              "      <td>2020-10-26</td>\n",
              "      <td>18902</td>\n",
              "      <td>2020-05-23</td>\n",
              "      <td>2019-04-04</td>\n",
              "      <td>52.4</td>\n",
              "      <td>0</td>\n",
              "      <td>26</td>\n",
              "      <td>10</td>\n",
              "      <td>2020</td>\n",
              "      <td>21</td>\n",
              "      <td>...</td>\n",
              "      <td>2020</td>\n",
              "      <td>0</td>\n",
              "      <td>0</td>\n",
              "      <td>0</td>\n",
              "      <td>4</td>\n",
              "      <td>4</td>\n",
              "      <td>2019</td>\n",
              "      <td>0</td>\n",
              "      <td>0</td>\n",
              "      <td>0</td>\n",
              "    </tr>\n",
              "    <tr>\n",
              "      <th>1</th>\n",
              "      <td>2020-10-26</td>\n",
              "      <td>18932</td>\n",
              "      <td>2020-02-06</td>\n",
              "      <td>2018-11-14</td>\n",
              "      <td>138.5</td>\n",
              "      <td>1</td>\n",
              "      <td>26</td>\n",
              "      <td>10</td>\n",
              "      <td>2020</td>\n",
              "      <td>21</td>\n",
              "      <td>...</td>\n",
              "      <td>2020</td>\n",
              "      <td>0</td>\n",
              "      <td>0</td>\n",
              "      <td>0</td>\n",
              "      <td>14</td>\n",
              "      <td>11</td>\n",
              "      <td>2018</td>\n",
              "      <td>0</td>\n",
              "      <td>0</td>\n",
              "      <td>0</td>\n",
              "    </tr>\n",
              "    <tr>\n",
              "      <th>2</th>\n",
              "      <td>2020-10-26</td>\n",
              "      <td>19009</td>\n",
              "      <td>2020-05-19</td>\n",
              "      <td>2019-03-16</td>\n",
              "      <td>72.6</td>\n",
              "      <td>2</td>\n",
              "      <td>26</td>\n",
              "      <td>10</td>\n",
              "      <td>2020</td>\n",
              "      <td>21</td>\n",
              "      <td>...</td>\n",
              "      <td>2020</td>\n",
              "      <td>0</td>\n",
              "      <td>0</td>\n",
              "      <td>0</td>\n",
              "      <td>16</td>\n",
              "      <td>3</td>\n",
              "      <td>2019</td>\n",
              "      <td>0</td>\n",
              "      <td>0</td>\n",
              "      <td>0</td>\n",
              "    </tr>\n",
              "    <tr>\n",
              "      <th>3</th>\n",
              "      <td>2020-10-26</td>\n",
              "      <td>19030</td>\n",
              "      <td>2020-02-27</td>\n",
              "      <td>2018-12-12</td>\n",
              "      <td>103.6</td>\n",
              "      <td>3</td>\n",
              "      <td>26</td>\n",
              "      <td>10</td>\n",
              "      <td>2020</td>\n",
              "      <td>21</td>\n",
              "      <td>...</td>\n",
              "      <td>2020</td>\n",
              "      <td>0</td>\n",
              "      <td>0</td>\n",
              "      <td>0</td>\n",
              "      <td>12</td>\n",
              "      <td>12</td>\n",
              "      <td>2018</td>\n",
              "      <td>0</td>\n",
              "      <td>0</td>\n",
              "      <td>0</td>\n",
              "    </tr>\n",
              "    <tr>\n",
              "      <th>4</th>\n",
              "      <td>2020-10-26</td>\n",
              "      <td>19129</td>\n",
              "      <td>2020-01-07</td>\n",
              "      <td>2018-10-08</td>\n",
              "      <td>141.0</td>\n",
              "      <td>4</td>\n",
              "      <td>26</td>\n",
              "      <td>10</td>\n",
              "      <td>2020</td>\n",
              "      <td>21</td>\n",
              "      <td>...</td>\n",
              "      <td>2020</td>\n",
              "      <td>0</td>\n",
              "      <td>0</td>\n",
              "      <td>0</td>\n",
              "      <td>8</td>\n",
              "      <td>10</td>\n",
              "      <td>2018</td>\n",
              "      <td>0</td>\n",
              "      <td>0</td>\n",
              "      <td>0</td>\n",
              "    </tr>\n",
              "  </tbody>\n",
              "</table>\n",
              "<p>5 rows × 24 columns</p>\n",
              "</div>\n",
              "      <button class=\"colab-df-convert\" onclick=\"convertToInteractive('df-d67f633c-2e52-4c69-aa5a-e632c1463102')\"\n",
              "              title=\"Convert this dataframe to an interactive table.\"\n",
              "              style=\"display:none;\">\n",
              "        \n",
              "  <svg xmlns=\"http://www.w3.org/2000/svg\" height=\"24px\"viewBox=\"0 0 24 24\"\n",
              "       width=\"24px\">\n",
              "    <path d=\"M0 0h24v24H0V0z\" fill=\"none\"/>\n",
              "    <path d=\"M18.56 5.44l.94 2.06.94-2.06 2.06-.94-2.06-.94-.94-2.06-.94 2.06-2.06.94zm-11 1L8.5 8.5l.94-2.06 2.06-.94-2.06-.94L8.5 2.5l-.94 2.06-2.06.94zm10 10l.94 2.06.94-2.06 2.06-.94-2.06-.94-.94-2.06-.94 2.06-2.06.94z\"/><path d=\"M17.41 7.96l-1.37-1.37c-.4-.4-.92-.59-1.43-.59-.52 0-1.04.2-1.43.59L10.3 9.45l-7.72 7.72c-.78.78-.78 2.05 0 2.83L4 21.41c.39.39.9.59 1.41.59.51 0 1.02-.2 1.41-.59l7.78-7.78 2.81-2.81c.8-.78.8-2.07 0-2.86zM5.41 20L4 18.59l7.72-7.72 1.47 1.35L5.41 20z\"/>\n",
              "  </svg>\n",
              "      </button>\n",
              "      \n",
              "  <style>\n",
              "    .colab-df-container {\n",
              "      display:flex;\n",
              "      flex-wrap:wrap;\n",
              "      gap: 12px;\n",
              "    }\n",
              "\n",
              "    .colab-df-convert {\n",
              "      background-color: #E8F0FE;\n",
              "      border: none;\n",
              "      border-radius: 50%;\n",
              "      cursor: pointer;\n",
              "      display: none;\n",
              "      fill: #1967D2;\n",
              "      height: 32px;\n",
              "      padding: 0 0 0 0;\n",
              "      width: 32px;\n",
              "    }\n",
              "\n",
              "    .colab-df-convert:hover {\n",
              "      background-color: #E2EBFA;\n",
              "      box-shadow: 0px 1px 2px rgba(60, 64, 67, 0.3), 0px 1px 3px 1px rgba(60, 64, 67, 0.15);\n",
              "      fill: #174EA6;\n",
              "    }\n",
              "\n",
              "    [theme=dark] .colab-df-convert {\n",
              "      background-color: #3B4455;\n",
              "      fill: #D2E3FC;\n",
              "    }\n",
              "\n",
              "    [theme=dark] .colab-df-convert:hover {\n",
              "      background-color: #434B5C;\n",
              "      box-shadow: 0px 1px 3px 1px rgba(0, 0, 0, 0.15);\n",
              "      filter: drop-shadow(0px 1px 2px rgba(0, 0, 0, 0.3));\n",
              "      fill: #FFFFFF;\n",
              "    }\n",
              "  </style>\n",
              "\n",
              "      <script>\n",
              "        const buttonEl =\n",
              "          document.querySelector('#df-d67f633c-2e52-4c69-aa5a-e632c1463102 button.colab-df-convert');\n",
              "        buttonEl.style.display =\n",
              "          google.colab.kernel.accessAllowed ? 'block' : 'none';\n",
              "\n",
              "        async function convertToInteractive(key) {\n",
              "          const element = document.querySelector('#df-d67f633c-2e52-4c69-aa5a-e632c1463102');\n",
              "          const dataTable =\n",
              "            await google.colab.kernel.invokeFunction('convertToInteractive',\n",
              "                                                     [key], {});\n",
              "          if (!dataTable) return;\n",
              "\n",
              "          const docLinkHtml = 'Like what you see? Visit the ' +\n",
              "            '<a target=\"_blank\" href=https://colab.research.google.com/notebooks/data_table.ipynb>data table notebook</a>'\n",
              "            + ' to learn more about interactive tables.';\n",
              "          element.innerHTML = '';\n",
              "          dataTable['output_type'] = 'display_data';\n",
              "          await google.colab.output.renderOutput(dataTable, element);\n",
              "          const docLink = document.createElement('div');\n",
              "          docLink.innerHTML = docLinkHtml;\n",
              "          element.appendChild(docLink);\n",
              "        }\n",
              "      </script>\n",
              "    </div>\n",
              "  </div>\n",
              "  "
            ]
          },
          "metadata": {},
          "execution_count": 216
        }
      ]
    },
    {
      "cell_type": "code",
      "source": [
        "date_time(weather, 'observation_date','observation' )"
      ],
      "metadata": {
        "colab": {
          "base_uri": "https://localhost:8080/",
          "height": 423
        },
        "id": "sus9LCigcwtK",
        "outputId": "7ee478cb-f5f8-447b-be4b-08d307a7b018"
      },
      "execution_count": 217,
      "outputs": [
        {
          "output_type": "execute_result",
          "data": {
            "text/plain": [
              "     observation_date                                       weather_data  \\\n",
              "0          2018-08-17  {'et': 5.000000000000001, 'prcp': 0.0, 'tmax':...   \n",
              "1          2018-08-16  {'et': 4.8900000000000015, 'prcp': 50.73, 'tma...   \n",
              "2          2018-08-15  {'et': 4.380000000000001, 'prcp': 37.83, 'tmax...   \n",
              "3          2018-08-14  {'et': 4.05, 'prcp': 4.41, 'tmax': 35.9, 'tmin...   \n",
              "4          2018-08-13  {'et': 4.81, 'prcp': 0.77, 'tmax': 34.7, 'tmin...   \n",
              "...               ...                                                ...   \n",
              "6669       2018-09-19  {'et': 4.55, 'prcp': 0.0, 'tmax': 35.9, 'tmin'...   \n",
              "6670       2018-09-18  {'et': 4.120000000000001, 'prcp': 0.0, 'tmax':...   \n",
              "6671       2018-09-17  {'et': 4.2200000000000015, 'prcp': 1.569999999...   \n",
              "6672       2018-09-16  {'et': 4.37, 'prcp': 0.0, 'tmax': 34.7, 'tmin'...   \n",
              "6673       2018-09-15  {'et': 0.0, 'prcp': 0.0, 'tmax': 25.1, 'tmin':...   \n",
              "\n",
              "      cultivation_id  observation_day  observation_month  observation_year  \\\n",
              "0               1912               17                  8              2018   \n",
              "1               1912               16                  8              2018   \n",
              "2               1912               15                  8              2018   \n",
              "3               1912               14                  8              2018   \n",
              "4               1912               13                  8              2018   \n",
              "...              ...              ...                ...               ...   \n",
              "6669           19030               19                  9              2018   \n",
              "6670           19030               18                  9              2018   \n",
              "6671           19030               17                  9              2018   \n",
              "6672           19030               16                  9              2018   \n",
              "6673           19030               15                  9              2018   \n",
              "\n",
              "      observation_hour  observation_minute  observation_second  \n",
              "0                    4                   0                   0  \n",
              "1                    4                   0                   0  \n",
              "2                    4                   0                   0  \n",
              "3                    4                   0                   0  \n",
              "4                    4                   0                   0  \n",
              "...                ...                 ...                 ...  \n",
              "6669                 4                   0                   0  \n",
              "6670                 4                   0                   0  \n",
              "6671                 4                   0                   0  \n",
              "6672                 4                   0                   0  \n",
              "6673                 4                   0                   0  \n",
              "\n",
              "[6674 rows x 9 columns]"
            ],
            "text/html": [
              "\n",
              "  <div id=\"df-b76b27ee-ff8c-41a9-ac88-084660251639\">\n",
              "    <div class=\"colab-df-container\">\n",
              "      <div>\n",
              "<style scoped>\n",
              "    .dataframe tbody tr th:only-of-type {\n",
              "        vertical-align: middle;\n",
              "    }\n",
              "\n",
              "    .dataframe tbody tr th {\n",
              "        vertical-align: top;\n",
              "    }\n",
              "\n",
              "    .dataframe thead th {\n",
              "        text-align: right;\n",
              "    }\n",
              "</style>\n",
              "<table border=\"1\" class=\"dataframe\">\n",
              "  <thead>\n",
              "    <tr style=\"text-align: right;\">\n",
              "      <th></th>\n",
              "      <th>observation_date</th>\n",
              "      <th>weather_data</th>\n",
              "      <th>cultivation_id</th>\n",
              "      <th>observation_day</th>\n",
              "      <th>observation_month</th>\n",
              "      <th>observation_year</th>\n",
              "      <th>observation_hour</th>\n",
              "      <th>observation_minute</th>\n",
              "      <th>observation_second</th>\n",
              "    </tr>\n",
              "  </thead>\n",
              "  <tbody>\n",
              "    <tr>\n",
              "      <th>0</th>\n",
              "      <td>2018-08-17</td>\n",
              "      <td>{'et': 5.000000000000001, 'prcp': 0.0, 'tmax':...</td>\n",
              "      <td>1912</td>\n",
              "      <td>17</td>\n",
              "      <td>8</td>\n",
              "      <td>2018</td>\n",
              "      <td>4</td>\n",
              "      <td>0</td>\n",
              "      <td>0</td>\n",
              "    </tr>\n",
              "    <tr>\n",
              "      <th>1</th>\n",
              "      <td>2018-08-16</td>\n",
              "      <td>{'et': 4.8900000000000015, 'prcp': 50.73, 'tma...</td>\n",
              "      <td>1912</td>\n",
              "      <td>16</td>\n",
              "      <td>8</td>\n",
              "      <td>2018</td>\n",
              "      <td>4</td>\n",
              "      <td>0</td>\n",
              "      <td>0</td>\n",
              "    </tr>\n",
              "    <tr>\n",
              "      <th>2</th>\n",
              "      <td>2018-08-15</td>\n",
              "      <td>{'et': 4.380000000000001, 'prcp': 37.83, 'tmax...</td>\n",
              "      <td>1912</td>\n",
              "      <td>15</td>\n",
              "      <td>8</td>\n",
              "      <td>2018</td>\n",
              "      <td>4</td>\n",
              "      <td>0</td>\n",
              "      <td>0</td>\n",
              "    </tr>\n",
              "    <tr>\n",
              "      <th>3</th>\n",
              "      <td>2018-08-14</td>\n",
              "      <td>{'et': 4.05, 'prcp': 4.41, 'tmax': 35.9, 'tmin...</td>\n",
              "      <td>1912</td>\n",
              "      <td>14</td>\n",
              "      <td>8</td>\n",
              "      <td>2018</td>\n",
              "      <td>4</td>\n",
              "      <td>0</td>\n",
              "      <td>0</td>\n",
              "    </tr>\n",
              "    <tr>\n",
              "      <th>4</th>\n",
              "      <td>2018-08-13</td>\n",
              "      <td>{'et': 4.81, 'prcp': 0.77, 'tmax': 34.7, 'tmin...</td>\n",
              "      <td>1912</td>\n",
              "      <td>13</td>\n",
              "      <td>8</td>\n",
              "      <td>2018</td>\n",
              "      <td>4</td>\n",
              "      <td>0</td>\n",
              "      <td>0</td>\n",
              "    </tr>\n",
              "    <tr>\n",
              "      <th>...</th>\n",
              "      <td>...</td>\n",
              "      <td>...</td>\n",
              "      <td>...</td>\n",
              "      <td>...</td>\n",
              "      <td>...</td>\n",
              "      <td>...</td>\n",
              "      <td>...</td>\n",
              "      <td>...</td>\n",
              "      <td>...</td>\n",
              "    </tr>\n",
              "    <tr>\n",
              "      <th>6669</th>\n",
              "      <td>2018-09-19</td>\n",
              "      <td>{'et': 4.55, 'prcp': 0.0, 'tmax': 35.9, 'tmin'...</td>\n",
              "      <td>19030</td>\n",
              "      <td>19</td>\n",
              "      <td>9</td>\n",
              "      <td>2018</td>\n",
              "      <td>4</td>\n",
              "      <td>0</td>\n",
              "      <td>0</td>\n",
              "    </tr>\n",
              "    <tr>\n",
              "      <th>6670</th>\n",
              "      <td>2018-09-18</td>\n",
              "      <td>{'et': 4.120000000000001, 'prcp': 0.0, 'tmax':...</td>\n",
              "      <td>19030</td>\n",
              "      <td>18</td>\n",
              "      <td>9</td>\n",
              "      <td>2018</td>\n",
              "      <td>4</td>\n",
              "      <td>0</td>\n",
              "      <td>0</td>\n",
              "    </tr>\n",
              "    <tr>\n",
              "      <th>6671</th>\n",
              "      <td>2018-09-17</td>\n",
              "      <td>{'et': 4.2200000000000015, 'prcp': 1.569999999...</td>\n",
              "      <td>19030</td>\n",
              "      <td>17</td>\n",
              "      <td>9</td>\n",
              "      <td>2018</td>\n",
              "      <td>4</td>\n",
              "      <td>0</td>\n",
              "      <td>0</td>\n",
              "    </tr>\n",
              "    <tr>\n",
              "      <th>6672</th>\n",
              "      <td>2018-09-16</td>\n",
              "      <td>{'et': 4.37, 'prcp': 0.0, 'tmax': 34.7, 'tmin'...</td>\n",
              "      <td>19030</td>\n",
              "      <td>16</td>\n",
              "      <td>9</td>\n",
              "      <td>2018</td>\n",
              "      <td>4</td>\n",
              "      <td>0</td>\n",
              "      <td>0</td>\n",
              "    </tr>\n",
              "    <tr>\n",
              "      <th>6673</th>\n",
              "      <td>2018-09-15</td>\n",
              "      <td>{'et': 0.0, 'prcp': 0.0, 'tmax': 25.1, 'tmin':...</td>\n",
              "      <td>19030</td>\n",
              "      <td>15</td>\n",
              "      <td>9</td>\n",
              "      <td>2018</td>\n",
              "      <td>4</td>\n",
              "      <td>0</td>\n",
              "      <td>0</td>\n",
              "    </tr>\n",
              "  </tbody>\n",
              "</table>\n",
              "<p>6674 rows × 9 columns</p>\n",
              "</div>\n",
              "      <button class=\"colab-df-convert\" onclick=\"convertToInteractive('df-b76b27ee-ff8c-41a9-ac88-084660251639')\"\n",
              "              title=\"Convert this dataframe to an interactive table.\"\n",
              "              style=\"display:none;\">\n",
              "        \n",
              "  <svg xmlns=\"http://www.w3.org/2000/svg\" height=\"24px\"viewBox=\"0 0 24 24\"\n",
              "       width=\"24px\">\n",
              "    <path d=\"M0 0h24v24H0V0z\" fill=\"none\"/>\n",
              "    <path d=\"M18.56 5.44l.94 2.06.94-2.06 2.06-.94-2.06-.94-.94-2.06-.94 2.06-2.06.94zm-11 1L8.5 8.5l.94-2.06 2.06-.94-2.06-.94L8.5 2.5l-.94 2.06-2.06.94zm10 10l.94 2.06.94-2.06 2.06-.94-2.06-.94-.94-2.06-.94 2.06-2.06.94z\"/><path d=\"M17.41 7.96l-1.37-1.37c-.4-.4-.92-.59-1.43-.59-.52 0-1.04.2-1.43.59L10.3 9.45l-7.72 7.72c-.78.78-.78 2.05 0 2.83L4 21.41c.39.39.9.59 1.41.59.51 0 1.02-.2 1.41-.59l7.78-7.78 2.81-2.81c.8-.78.8-2.07 0-2.86zM5.41 20L4 18.59l7.72-7.72 1.47 1.35L5.41 20z\"/>\n",
              "  </svg>\n",
              "      </button>\n",
              "      \n",
              "  <style>\n",
              "    .colab-df-container {\n",
              "      display:flex;\n",
              "      flex-wrap:wrap;\n",
              "      gap: 12px;\n",
              "    }\n",
              "\n",
              "    .colab-df-convert {\n",
              "      background-color: #E8F0FE;\n",
              "      border: none;\n",
              "      border-radius: 50%;\n",
              "      cursor: pointer;\n",
              "      display: none;\n",
              "      fill: #1967D2;\n",
              "      height: 32px;\n",
              "      padding: 0 0 0 0;\n",
              "      width: 32px;\n",
              "    }\n",
              "\n",
              "    .colab-df-convert:hover {\n",
              "      background-color: #E2EBFA;\n",
              "      box-shadow: 0px 1px 2px rgba(60, 64, 67, 0.3), 0px 1px 3px 1px rgba(60, 64, 67, 0.15);\n",
              "      fill: #174EA6;\n",
              "    }\n",
              "\n",
              "    [theme=dark] .colab-df-convert {\n",
              "      background-color: #3B4455;\n",
              "      fill: #D2E3FC;\n",
              "    }\n",
              "\n",
              "    [theme=dark] .colab-df-convert:hover {\n",
              "      background-color: #434B5C;\n",
              "      box-shadow: 0px 1px 3px 1px rgba(0, 0, 0, 0.15);\n",
              "      filter: drop-shadow(0px 1px 2px rgba(0, 0, 0, 0.3));\n",
              "      fill: #FFFFFF;\n",
              "    }\n",
              "  </style>\n",
              "\n",
              "      <script>\n",
              "        const buttonEl =\n",
              "          document.querySelector('#df-b76b27ee-ff8c-41a9-ac88-084660251639 button.colab-df-convert');\n",
              "        buttonEl.style.display =\n",
              "          google.colab.kernel.accessAllowed ? 'block' : 'none';\n",
              "\n",
              "        async function convertToInteractive(key) {\n",
              "          const element = document.querySelector('#df-b76b27ee-ff8c-41a9-ac88-084660251639');\n",
              "          const dataTable =\n",
              "            await google.colab.kernel.invokeFunction('convertToInteractive',\n",
              "                                                     [key], {});\n",
              "          if (!dataTable) return;\n",
              "\n",
              "          const docLinkHtml = 'Like what you see? Visit the ' +\n",
              "            '<a target=\"_blank\" href=https://colab.research.google.com/notebooks/data_table.ipynb>data table notebook</a>'\n",
              "            + ' to learn more about interactive tables.';\n",
              "          element.innerHTML = '';\n",
              "          dataTable['output_type'] = 'display_data';\n",
              "          await google.colab.output.renderOutput(dataTable, element);\n",
              "          const docLink = document.createElement('div');\n",
              "          docLink.innerHTML = docLinkHtml;\n",
              "          element.appendChild(docLink);\n",
              "        }\n",
              "      </script>\n",
              "    </div>\n",
              "  </div>\n",
              "  "
            ]
          },
          "metadata": {},
          "execution_count": 217
        }
      ]
    },
    {
      "cell_type": "code",
      "source": [
        "date_time(msavi_mean, 'observation_date','observation' )"
      ],
      "metadata": {
        "colab": {
          "base_uri": "https://localhost:8080/",
          "height": 468
        },
        "id": "OH-2ZCEvc1Ks",
        "outputId": "78ba3c90-4994-4be3-bf48-fabac3ae0b39"
      },
      "execution_count": 218,
      "outputs": [
        {
          "output_type": "execute_result",
          "data": {
            "text/plain": [
              "     observation_date                                          meta_data  \\\n",
              "0          2019-10-23  {'pixel_count': 1088, 'unmasked_count': 0.0, '...   \n",
              "1          2020-06-27  {'pixel_count': 3636, 'unmasked_count': 3636.0...   \n",
              "2          2019-10-23  {'pixel_count': 1546, 'unmasked_count': 0.0, '...   \n",
              "3          2020-06-02  {'pixel_count': 1088, 'unmasked_count': 0.0, '...   \n",
              "4          2019-10-23  {'pixel_count': 3356, 'unmasked_count': 0.0, '...   \n",
              "...               ...                                                ...   \n",
              "2671       2018-02-20  {'pixel_count': 1323, 'unmasked_count': 1323.0...   \n",
              "2672       2018-03-07  {'pixel_count': 1323, 'unmasked_count': 0.0, '...   \n",
              "2673       2018-06-05  {'pixel_count': 1323, 'unmasked_count': 0.0, '...   \n",
              "2674       2018-04-21  {'pixel_count': 1323, 'unmasked_count': 0.0, '...   \n",
              "2675       2018-06-18  {'pixel_count': 1323, 'unmasked_count': 0.0, '...   \n",
              "\n",
              "      cultivation_id  data_value  observation_day  observation_month  \\\n",
              "0              18902    0.451015               23                 10   \n",
              "1              18932    0.635420               27                  6   \n",
              "2              19009    0.451015               23                 10   \n",
              "3              18902    0.451015                2                  6   \n",
              "4              19030    0.451015               23                 10   \n",
              "...              ...         ...              ...                ...   \n",
              "2671            1912    0.080866               20                  2   \n",
              "2672            1912    0.451015                7                  3   \n",
              "2673            1912    0.451015                5                  6   \n",
              "2674            1912    0.451015               21                  4   \n",
              "2675            1912    0.451015               18                  6   \n",
              "\n",
              "      observation_year  observation_hour  observation_minute  \\\n",
              "0                 2019                16                   6   \n",
              "1                 2020                16                  15   \n",
              "2                 2019                16                   6   \n",
              "3                 2020                16                  16   \n",
              "4                 2019                16                   6   \n",
              "...                ...               ...                 ...   \n",
              "2671              2018                16                   5   \n",
              "2672              2018                16                   5   \n",
              "2673              2018                16                   5   \n",
              "2674              2018                16                   5   \n",
              "2675              2018                16                   6   \n",
              "\n",
              "      observation_second  \n",
              "0                      2  \n",
              "1                     56  \n",
              "2                      2  \n",
              "3                      0  \n",
              "4                      2  \n",
              "...                  ...  \n",
              "2671                   8  \n",
              "2672                   1  \n",
              "2673                   8  \n",
              "2674                  13  \n",
              "2675                  55  \n",
              "\n",
              "[2676 rows x 10 columns]"
            ],
            "text/html": [
              "\n",
              "  <div id=\"df-d87b2755-1d88-45b2-960e-5b1cbd45f16f\">\n",
              "    <div class=\"colab-df-container\">\n",
              "      <div>\n",
              "<style scoped>\n",
              "    .dataframe tbody tr th:only-of-type {\n",
              "        vertical-align: middle;\n",
              "    }\n",
              "\n",
              "    .dataframe tbody tr th {\n",
              "        vertical-align: top;\n",
              "    }\n",
              "\n",
              "    .dataframe thead th {\n",
              "        text-align: right;\n",
              "    }\n",
              "</style>\n",
              "<table border=\"1\" class=\"dataframe\">\n",
              "  <thead>\n",
              "    <tr style=\"text-align: right;\">\n",
              "      <th></th>\n",
              "      <th>observation_date</th>\n",
              "      <th>meta_data</th>\n",
              "      <th>cultivation_id</th>\n",
              "      <th>data_value</th>\n",
              "      <th>observation_day</th>\n",
              "      <th>observation_month</th>\n",
              "      <th>observation_year</th>\n",
              "      <th>observation_hour</th>\n",
              "      <th>observation_minute</th>\n",
              "      <th>observation_second</th>\n",
              "    </tr>\n",
              "  </thead>\n",
              "  <tbody>\n",
              "    <tr>\n",
              "      <th>0</th>\n",
              "      <td>2019-10-23</td>\n",
              "      <td>{'pixel_count': 1088, 'unmasked_count': 0.0, '...</td>\n",
              "      <td>18902</td>\n",
              "      <td>0.451015</td>\n",
              "      <td>23</td>\n",
              "      <td>10</td>\n",
              "      <td>2019</td>\n",
              "      <td>16</td>\n",
              "      <td>6</td>\n",
              "      <td>2</td>\n",
              "    </tr>\n",
              "    <tr>\n",
              "      <th>1</th>\n",
              "      <td>2020-06-27</td>\n",
              "      <td>{'pixel_count': 3636, 'unmasked_count': 3636.0...</td>\n",
              "      <td>18932</td>\n",
              "      <td>0.635420</td>\n",
              "      <td>27</td>\n",
              "      <td>6</td>\n",
              "      <td>2020</td>\n",
              "      <td>16</td>\n",
              "      <td>15</td>\n",
              "      <td>56</td>\n",
              "    </tr>\n",
              "    <tr>\n",
              "      <th>2</th>\n",
              "      <td>2019-10-23</td>\n",
              "      <td>{'pixel_count': 1546, 'unmasked_count': 0.0, '...</td>\n",
              "      <td>19009</td>\n",
              "      <td>0.451015</td>\n",
              "      <td>23</td>\n",
              "      <td>10</td>\n",
              "      <td>2019</td>\n",
              "      <td>16</td>\n",
              "      <td>6</td>\n",
              "      <td>2</td>\n",
              "    </tr>\n",
              "    <tr>\n",
              "      <th>3</th>\n",
              "      <td>2020-06-02</td>\n",
              "      <td>{'pixel_count': 1088, 'unmasked_count': 0.0, '...</td>\n",
              "      <td>18902</td>\n",
              "      <td>0.451015</td>\n",
              "      <td>2</td>\n",
              "      <td>6</td>\n",
              "      <td>2020</td>\n",
              "      <td>16</td>\n",
              "      <td>16</td>\n",
              "      <td>0</td>\n",
              "    </tr>\n",
              "    <tr>\n",
              "      <th>4</th>\n",
              "      <td>2019-10-23</td>\n",
              "      <td>{'pixel_count': 3356, 'unmasked_count': 0.0, '...</td>\n",
              "      <td>19030</td>\n",
              "      <td>0.451015</td>\n",
              "      <td>23</td>\n",
              "      <td>10</td>\n",
              "      <td>2019</td>\n",
              "      <td>16</td>\n",
              "      <td>6</td>\n",
              "      <td>2</td>\n",
              "    </tr>\n",
              "    <tr>\n",
              "      <th>...</th>\n",
              "      <td>...</td>\n",
              "      <td>...</td>\n",
              "      <td>...</td>\n",
              "      <td>...</td>\n",
              "      <td>...</td>\n",
              "      <td>...</td>\n",
              "      <td>...</td>\n",
              "      <td>...</td>\n",
              "      <td>...</td>\n",
              "      <td>...</td>\n",
              "    </tr>\n",
              "    <tr>\n",
              "      <th>2671</th>\n",
              "      <td>2018-02-20</td>\n",
              "      <td>{'pixel_count': 1323, 'unmasked_count': 1323.0...</td>\n",
              "      <td>1912</td>\n",
              "      <td>0.080866</td>\n",
              "      <td>20</td>\n",
              "      <td>2</td>\n",
              "      <td>2018</td>\n",
              "      <td>16</td>\n",
              "      <td>5</td>\n",
              "      <td>8</td>\n",
              "    </tr>\n",
              "    <tr>\n",
              "      <th>2672</th>\n",
              "      <td>2018-03-07</td>\n",
              "      <td>{'pixel_count': 1323, 'unmasked_count': 0.0, '...</td>\n",
              "      <td>1912</td>\n",
              "      <td>0.451015</td>\n",
              "      <td>7</td>\n",
              "      <td>3</td>\n",
              "      <td>2018</td>\n",
              "      <td>16</td>\n",
              "      <td>5</td>\n",
              "      <td>1</td>\n",
              "    </tr>\n",
              "    <tr>\n",
              "      <th>2673</th>\n",
              "      <td>2018-06-05</td>\n",
              "      <td>{'pixel_count': 1323, 'unmasked_count': 0.0, '...</td>\n",
              "      <td>1912</td>\n",
              "      <td>0.451015</td>\n",
              "      <td>5</td>\n",
              "      <td>6</td>\n",
              "      <td>2018</td>\n",
              "      <td>16</td>\n",
              "      <td>5</td>\n",
              "      <td>8</td>\n",
              "    </tr>\n",
              "    <tr>\n",
              "      <th>2674</th>\n",
              "      <td>2018-04-21</td>\n",
              "      <td>{'pixel_count': 1323, 'unmasked_count': 0.0, '...</td>\n",
              "      <td>1912</td>\n",
              "      <td>0.451015</td>\n",
              "      <td>21</td>\n",
              "      <td>4</td>\n",
              "      <td>2018</td>\n",
              "      <td>16</td>\n",
              "      <td>5</td>\n",
              "      <td>13</td>\n",
              "    </tr>\n",
              "    <tr>\n",
              "      <th>2675</th>\n",
              "      <td>2018-06-18</td>\n",
              "      <td>{'pixel_count': 1323, 'unmasked_count': 0.0, '...</td>\n",
              "      <td>1912</td>\n",
              "      <td>0.451015</td>\n",
              "      <td>18</td>\n",
              "      <td>6</td>\n",
              "      <td>2018</td>\n",
              "      <td>16</td>\n",
              "      <td>6</td>\n",
              "      <td>55</td>\n",
              "    </tr>\n",
              "  </tbody>\n",
              "</table>\n",
              "<p>2676 rows × 10 columns</p>\n",
              "</div>\n",
              "      <button class=\"colab-df-convert\" onclick=\"convertToInteractive('df-d87b2755-1d88-45b2-960e-5b1cbd45f16f')\"\n",
              "              title=\"Convert this dataframe to an interactive table.\"\n",
              "              style=\"display:none;\">\n",
              "        \n",
              "  <svg xmlns=\"http://www.w3.org/2000/svg\" height=\"24px\"viewBox=\"0 0 24 24\"\n",
              "       width=\"24px\">\n",
              "    <path d=\"M0 0h24v24H0V0z\" fill=\"none\"/>\n",
              "    <path d=\"M18.56 5.44l.94 2.06.94-2.06 2.06-.94-2.06-.94-.94-2.06-.94 2.06-2.06.94zm-11 1L8.5 8.5l.94-2.06 2.06-.94-2.06-.94L8.5 2.5l-.94 2.06-2.06.94zm10 10l.94 2.06.94-2.06 2.06-.94-2.06-.94-.94-2.06-.94 2.06-2.06.94z\"/><path d=\"M17.41 7.96l-1.37-1.37c-.4-.4-.92-.59-1.43-.59-.52 0-1.04.2-1.43.59L10.3 9.45l-7.72 7.72c-.78.78-.78 2.05 0 2.83L4 21.41c.39.39.9.59 1.41.59.51 0 1.02-.2 1.41-.59l7.78-7.78 2.81-2.81c.8-.78.8-2.07 0-2.86zM5.41 20L4 18.59l7.72-7.72 1.47 1.35L5.41 20z\"/>\n",
              "  </svg>\n",
              "      </button>\n",
              "      \n",
              "  <style>\n",
              "    .colab-df-container {\n",
              "      display:flex;\n",
              "      flex-wrap:wrap;\n",
              "      gap: 12px;\n",
              "    }\n",
              "\n",
              "    .colab-df-convert {\n",
              "      background-color: #E8F0FE;\n",
              "      border: none;\n",
              "      border-radius: 50%;\n",
              "      cursor: pointer;\n",
              "      display: none;\n",
              "      fill: #1967D2;\n",
              "      height: 32px;\n",
              "      padding: 0 0 0 0;\n",
              "      width: 32px;\n",
              "    }\n",
              "\n",
              "    .colab-df-convert:hover {\n",
              "      background-color: #E2EBFA;\n",
              "      box-shadow: 0px 1px 2px rgba(60, 64, 67, 0.3), 0px 1px 3px 1px rgba(60, 64, 67, 0.15);\n",
              "      fill: #174EA6;\n",
              "    }\n",
              "\n",
              "    [theme=dark] .colab-df-convert {\n",
              "      background-color: #3B4455;\n",
              "      fill: #D2E3FC;\n",
              "    }\n",
              "\n",
              "    [theme=dark] .colab-df-convert:hover {\n",
              "      background-color: #434B5C;\n",
              "      box-shadow: 0px 1px 3px 1px rgba(0, 0, 0, 0.15);\n",
              "      filter: drop-shadow(0px 1px 2px rgba(0, 0, 0, 0.3));\n",
              "      fill: #FFFFFF;\n",
              "    }\n",
              "  </style>\n",
              "\n",
              "      <script>\n",
              "        const buttonEl =\n",
              "          document.querySelector('#df-d87b2755-1d88-45b2-960e-5b1cbd45f16f button.colab-df-convert');\n",
              "        buttonEl.style.display =\n",
              "          google.colab.kernel.accessAllowed ? 'block' : 'none';\n",
              "\n",
              "        async function convertToInteractive(key) {\n",
              "          const element = document.querySelector('#df-d87b2755-1d88-45b2-960e-5b1cbd45f16f');\n",
              "          const dataTable =\n",
              "            await google.colab.kernel.invokeFunction('convertToInteractive',\n",
              "                                                     [key], {});\n",
              "          if (!dataTable) return;\n",
              "\n",
              "          const docLinkHtml = 'Like what you see? Visit the ' +\n",
              "            '<a target=\"_blank\" href=https://colab.research.google.com/notebooks/data_table.ipynb>data table notebook</a>'\n",
              "            + ' to learn more about interactive tables.';\n",
              "          element.innerHTML = '';\n",
              "          dataTable['output_type'] = 'display_data';\n",
              "          await google.colab.output.renderOutput(dataTable, element);\n",
              "          const docLink = document.createElement('div');\n",
              "          docLink.innerHTML = docLinkHtml;\n",
              "          element.appendChild(docLink);\n",
              "        }\n",
              "      </script>\n",
              "    </div>\n",
              "  </div>\n",
              "  "
            ]
          },
          "metadata": {},
          "execution_count": 218
        }
      ]
    },
    {
      "cell_type": "markdown",
      "source": [
        "Feature Split"
      ],
      "metadata": {
        "id": "txVKu6gFymYm"
      }
    },
    {
      "cell_type": "code",
      "source": [
        "# We define a function that will parse an string and then return the values:\n",
        "\n",
        "def parse(text, key):\n",
        "  Dict = eval(text)\n",
        "  return Dict[key]\n"
      ],
      "metadata": {
        "id": "tDB7y81tFV8O"
      },
      "execution_count": 219,
      "outputs": []
    },
    {
      "cell_type": "code",
      "source": [
        "# Weather dataset:\n",
        "\n",
        "weather['et'] = weather['weather_data'].apply(parse, key='et')\n",
        "weather['prcp'] = weather['weather_data'].apply(parse, key='prcp')\n",
        "weather['tmax'] = weather['weather_data'].apply(parse, key='tmax')\n",
        "weather['tmin'] = weather['weather_data'].apply(parse, key='tmin')\n",
        "weather['gdd12'] = weather['weather_data'].apply(parse, key='gdd12')\n",
        "weather['smi_5'] = weather['weather_data'].apply(parse, key='smi_5')\n",
        "weather['smi_15'] = weather['weather_data'].apply(parse, key='smi_15')\n",
        "weather['smi_50'] = weather['weather_data'].apply(parse, key='smi_50')\n",
        "weather.drop( columns = ['weather_data'], inplace = True)"
      ],
      "metadata": {
        "id": "gmXHwnsMkJiW"
      },
      "execution_count": 220,
      "outputs": []
    },
    {
      "cell_type": "code",
      "source": [
        "# Msavi_mean dataset:\n",
        "\n",
        "msavi_mean['pixel_count'] = msavi_mean['meta_data'].apply(parse, key='pixel_count')\n",
        "msavi_mean['unmasked_count'] = msavi_mean['meta_data'].apply(parse, key='unmasked_count')\n",
        "msavi_mean['unmasked_fraction'] = msavi_mean['meta_data'].apply(parse, key='unmasked_fraction')\n",
        "msavi_mean.drop( columns = ['meta_data'], inplace = True)"
      ],
      "metadata": {
        "id": "manbI5a0kv6j"
      },
      "execution_count": 221,
      "outputs": []
    },
    {
      "cell_type": "markdown",
      "source": [
        "We join the datasets"
      ],
      "metadata": {
        "id": "lWzfBpIv428-"
      }
    },
    {
      "cell_type": "code",
      "source": [
        "cultivation['cultivation_id'].unique()"
      ],
      "metadata": {
        "colab": {
          "base_uri": "https://localhost:8080/"
        },
        "id": "6-1jqD_Ami4W",
        "outputId": "0a200a03-b33f-41ab-fd53-a71919c44fae"
      },
      "execution_count": 222,
      "outputs": [
        {
          "output_type": "execute_result",
          "data": {
            "text/plain": [
              "array([18902, 18932, 19009, 19030, 19129])"
            ]
          },
          "metadata": {},
          "execution_count": 222
        }
      ]
    },
    {
      "cell_type": "code",
      "source": [
        "weather['cultivation_id'].unique()"
      ],
      "metadata": {
        "colab": {
          "base_uri": "https://localhost:8080/"
        },
        "id": "TiKDL7Bp4j1p",
        "outputId": "cf31e35e-9987-4d80-9f8c-2ae2d4eab379"
      },
      "execution_count": 223,
      "outputs": [
        {
          "output_type": "execute_result",
          "data": {
            "text/plain": [
              "array([ 1912, 18902, 18932, 19009, 19030])"
            ]
          },
          "metadata": {},
          "execution_count": 223
        }
      ]
    },
    {
      "cell_type": "code",
      "source": [
        "msavi_mean['cultivation_id'].unique()"
      ],
      "metadata": {
        "colab": {
          "base_uri": "https://localhost:8080/"
        },
        "id": "NzUB44V14sJ6",
        "outputId": "1a3b1548-c65e-4a30-e1cb-36de7c4a099a"
      },
      "execution_count": 224,
      "outputs": [
        {
          "output_type": "execute_result",
          "data": {
            "text/plain": [
              "array([18902, 18932, 19009, 19030,  1912])"
            ]
          },
          "metadata": {},
          "execution_count": 224
        }
      ]
    },
    {
      "cell_type": "code",
      "source": [
        "weather.loc[weather.cultivation_id == 1912, 'cultivation_id'] = 19129"
      ],
      "metadata": {
        "id": "FGTB5AyRB_y-"
      },
      "execution_count": 225,
      "outputs": []
    },
    {
      "cell_type": "code",
      "source": [
        "msavi_mean.loc[msavi_mean.cultivation_id == 1912, 'cultivation_id'] = 19129"
      ],
      "metadata": {
        "id": "HQoV93YwC5L0"
      },
      "execution_count": 226,
      "outputs": []
    },
    {
      "cell_type": "code",
      "source": [
        "inner_merged = pd.merge(cultivation, weather, on=['cultivation_id'])\n",
        "inner_merged.shape\n"
      ],
      "metadata": {
        "colab": {
          "base_uri": "https://localhost:8080/"
        },
        "id": "8E_-XsEcAsMs",
        "outputId": "ccf155c5-5ac3-4186-e0bc-1457497f00c7"
      },
      "execution_count": 227,
      "outputs": [
        {
          "output_type": "execute_result",
          "data": {
            "text/plain": [
              "(6674, 39)"
            ]
          },
          "metadata": {},
          "execution_count": 227
        }
      ]
    },
    {
      "cell_type": "code",
      "source": [
        "inner_merged2 = pd.merge(inner_merged, msavi_mean, on=['observation_date', 'cultivation_id'])\n",
        "inner_merged2.shape"
      ],
      "metadata": {
        "colab": {
          "base_uri": "https://localhost:8080/"
        },
        "id": "RnRIkM4BDran",
        "outputId": "a337d117-c2a6-456e-b44e-48df814176f6"
      },
      "execution_count": 256,
      "outputs": [
        {
          "output_type": "execute_result",
          "data": {
            "text/plain": [
              "(2676, 49)"
            ]
          },
          "metadata": {},
          "execution_count": 256
        }
      ]
    },
    {
      "cell_type": "code",
      "source": [
        "inner_merged2.drop_duplicates(inplace = True)"
      ],
      "metadata": {
        "id": "Ho3Wr80gHKvk"
      },
      "execution_count": 257,
      "outputs": []
    },
    {
      "cell_type": "code",
      "source": [
        "inner_merged2.drop( columns = ['created_at','harvest date','grow start date', 'observation_date','observation_day_y', 'observation_month_y', 'observation_year_y'], inplace = True)"
      ],
      "metadata": {
        "id": "OriguZisHRV0"
      },
      "execution_count": 258,
      "outputs": []
    },
    {
      "cell_type": "code",
      "source": [
        "inner_merged2.columns"
      ],
      "metadata": {
        "colab": {
          "base_uri": "https://localhost:8080/"
        },
        "id": "GRvVrbX9ZI8s",
        "outputId": "fce40a54-81a5-42a0-c8f4-bbf98103114d"
      },
      "execution_count": 259,
      "outputs": [
        {
          "output_type": "execute_result",
          "data": {
            "text/plain": [
              "Index(['cultivation_id', 'yield', 'cultivation_name_cat', 'creation_day',\n",
              "       'creation_month', 'creation_year', 'creation_hour', 'creation_minute',\n",
              "       'creation_second', 'harvest_day', 'harvest_month', 'harvest_year',\n",
              "       'harvest_hour', 'harvest_minute', 'harvest_second', 'grow start_day',\n",
              "       'grow start_month', 'grow start_year', 'grow start_hour',\n",
              "       'grow start_minute', 'grow start_second', 'observation_day_x',\n",
              "       'observation_month_x', 'observation_year_x', 'observation_hour_x',\n",
              "       'observation_minute_x', 'observation_second_x', 'et', 'prcp', 'tmax',\n",
              "       'tmin', 'gdd12', 'smi_5', 'smi_15', 'smi_50', 'data_value',\n",
              "       'observation_hour_y', 'observation_minute_y', 'observation_second_y',\n",
              "       'pixel_count', 'unmasked_count', 'unmasked_fraction'],\n",
              "      dtype='object')"
            ]
          },
          "metadata": {},
          "execution_count": 259
        }
      ]
    },
    {
      "cell_type": "code",
      "source": [
        "# We need to rename some columns after the merge:\n",
        "\n",
        "inner_merged2 = inner_merged2.rename(columns = {'observation_day_x': 'observation_day', 'observation_month_x':'observation_month', 'observation_year_x':'observation_year', 'observation_hour_x':'observation_hour_weather',\n",
        "       'observation_minute_x':'observation_minute_weather', 'observation_second_x':'observation_second_weather', 'observation_hour_y':'observation_hour_msavi', 'observation_minute_y':'observation_minute_msavi', 'observation_second_y':'observation_second_msavi'})"
      ],
      "metadata": {
        "id": "XuRVOFNEbEUS"
      },
      "execution_count": 260,
      "outputs": []
    },
    {
      "cell_type": "code",
      "source": [
        "inner_merged2.columns"
      ],
      "metadata": {
        "colab": {
          "base_uri": "https://localhost:8080/"
        },
        "id": "Y-UvMgvbfCPE",
        "outputId": "e08163bb-ef42-433c-f2c9-d6707902e325"
      },
      "execution_count": 261,
      "outputs": [
        {
          "output_type": "execute_result",
          "data": {
            "text/plain": [
              "Index(['cultivation_id', 'yield', 'cultivation_name_cat', 'creation_day',\n",
              "       'creation_month', 'creation_year', 'creation_hour', 'creation_minute',\n",
              "       'creation_second', 'harvest_day', 'harvest_month', 'harvest_year',\n",
              "       'harvest_hour', 'harvest_minute', 'harvest_second', 'grow start_day',\n",
              "       'grow start_month', 'grow start_year', 'grow start_hour',\n",
              "       'grow start_minute', 'grow start_second', 'observation_day',\n",
              "       'observation_month', 'observation_year', 'observation_hour_weather',\n",
              "       'observation_minute_weather', 'observation_second_weather', 'et',\n",
              "       'prcp', 'tmax', 'tmin', 'gdd12', 'smi_5', 'smi_15', 'smi_50',\n",
              "       'data_value', 'observation_hour_msavi', 'observation_minute_msavi',\n",
              "       'observation_second_msavi', 'pixel_count', 'unmasked_count',\n",
              "       'unmasked_fraction'],\n",
              "      dtype='object')"
            ]
          },
          "metadata": {},
          "execution_count": 261
        }
      ]
    },
    {
      "cell_type": "code",
      "source": [
        "# This hour is PM (observation_hour_msavi) so we convert it into military hour adding up 12 hrs:\n",
        "\n",
        "inner_merged2['observation_hour_msavi'] = inner_merged2['observation_hour_msavi'] + 12"
      ],
      "metadata": {
        "id": "fQBcXdjKcbv9"
      },
      "execution_count": 262,
      "outputs": []
    },
    {
      "cell_type": "markdown",
      "source": [
        "Feature Selection"
      ],
      "metadata": {
        "id": "Pejr7wVgN4OF"
      }
    },
    {
      "cell_type": "code",
      "source": [
        "from sklearn.preprocessing import StandardScaler\n",
        "from sklearn.model_selection import train_test_split\n",
        "\n",
        "X_train = inner_merged2[[ 'et',\n",
        "       'prcp', 'tmax', 'tmin', 'gdd12', 'smi_5', 'smi_15', 'smi_50',\n",
        "       'data_value', 'pixel_count', 'unmasked_count',\n",
        "       'unmasked_fraction']]\n",
        "y_train = inner_merged2['yield']\n",
        "\n",
        "ss = StandardScaler()\n",
        "X_train_scaled = ss.fit_transform(X_train)\n"
      ],
      "metadata": {
        "id": "recf47po7KXQ"
      },
      "execution_count": 315,
      "outputs": []
    },
    {
      "cell_type": "code",
      "source": [
        "# linear regression feature importance\n",
        "from sklearn.datasets import make_regression\n",
        "from sklearn.linear_model import LinearRegression\n",
        "from matplotlib import pyplot\n",
        "\n",
        "# define the model\n",
        "model = LinearRegression()\n",
        "# fit the model\n",
        "model.fit(X_train_scaled, y_train)\n",
        "# get importance\n",
        "importance = model.coef_\n",
        "# summarize feature importance\n",
        "for i,v in enumerate(importance):\n",
        "\tprint('Feature: %0d, Score: %.5f' % (i,v))"
      ],
      "metadata": {
        "colab": {
          "base_uri": "https://localhost:8080/"
        },
        "id": "Cq8lE5RE9Ht0",
        "outputId": "20d1f39e-4cc1-4a1a-f2d0-af07e9e7fabd"
      },
      "execution_count": 321,
      "outputs": [
        {
          "output_type": "stream",
          "name": "stdout",
          "text": [
            "Feature: 0, Score: 9.07117\n",
            "Feature: 1, Score: 0.46598\n",
            "Feature: 2, Score: -15.56255\n",
            "Feature: 3, Score: 12.20063\n",
            "Feature: 4, Score: -2.44748\n",
            "Feature: 5, Score: -1.13965\n",
            "Feature: 6, Score: -4.80087\n",
            "Feature: 7, Score: 0.68832\n",
            "Feature: 8, Score: -2.00037\n",
            "Feature: 9, Score: 17.22180\n",
            "Feature: 10, Score: -2.14246\n",
            "Feature: 11, Score: 1.37067\n"
          ]
        }
      ]
    },
    {
      "cell_type": "code",
      "source": [
        "from sklearn.decomposition import PCA\n",
        "\n",
        "pca = PCA().fit(X_train_scaled)\n",
        "plt.plot(pca.explained_variance_ratio_.cumsum(), lw=3, color='#087E8B')\n",
        "plt.title('Cumulative explained variance by number of principal components', size=20)\n",
        "plt.show()"
      ],
      "metadata": {
        "colab": {
          "base_uri": "https://localhost:8080/",
          "height": 286
        },
        "id": "Jvj2DwkT9HnL",
        "outputId": "812b8443-5b06-4e6a-f4c2-1516d7e93354"
      },
      "execution_count": 326,
      "outputs": [
        {
          "output_type": "display_data",
          "data": {
            "text/plain": [
              "<Figure size 432x288 with 1 Axes>"
            ],
            "image/png": "[encoded data removed]"
          },
          "metadata": {
            "needs_background": "light"
          }
        }
      ]
    },
    {
      "cell_type": "markdown",
      "source": [
        "The algorithms above tell us that 6 variables describe 90% of the variance of the data. Furthermore linear regression tells us that these 6 variables are: 'et', 'prcp', 'tmin', 'smi_50', 'pixel_count' and 'unmasked_fraction'. In addition to these we consider that the variables referring to the date and time, these would be harvest_date, grow_start_date, and observation_date.\n",
        "\n",
        "Let us remember that the variables that have date and time, were separated into 6 variables, therefore the total of relevant features would be 27. These would finally be: 'cultivation_id', 'harvest_month', 'harvest_year', 'harvest_hour', 'harvest_minute', 'harvest_second', 'grow start_day', 'grow start_month', 'grow start_year', 'grow start_hour', 'grow start_minute', 'grow start_second', 'observation_day', 'observation_month', 'observation_year', 'observation_hour_weather', 'observation_minute_weather', 'observation_second_weather', 'et', 'prcp', 'tmin', 'smi_50', 'observation_hour_msavi', 'observation_minute_msavi', 'observation_second_msavi', 'pixel_count',\n",
        "       'unmasked_fraction'."
      ],
      "metadata": {
        "id": "tArufYwyB6Ak"
      }
    },
    {
      "cell_type": "markdown",
      "source": [
        "To test the value of these features further on a larger data set, the most common is to check the significance of the variables. For this, the p-value is used, in particular if the conditions exist to perform linear regression or generalized linear regression, a p-value of a feature less than 0.05, tells us that these feauture is statistically significant. Therefore, it would suffice to check that the features that we recommend taking into account are indeed statistically significant.\n",
        "\n",
        "Another methodology could be through stratified sampling, ensuring that the largest sample is correctly represented within the sample that was analyzed. This ensures statistical significance and accurately reflect the population being studied, so the analysis of significance that we made previously should lead to a correct conclusion."
      ],
      "metadata": {
        "id": "kFCJS9pO1ARi"
      }
    },
    {
      "cell_type": "markdown",
      "source": [
        "Some interesting functions with the features would be given the 'grow_start_date' and 'Harvest_date', determining the characteristics of the weather in this time interval, as well as the 'meta_data'. These values ​​can be given in intervals, and they could provide a reference on the expected yield based on the weather information and the collection of satellite images. In this way, the producers will have an expected yield margin, by verifying that the weather or terrain conditions, which have been registered by other producers, are met."
      ],
      "metadata": {
        "id": "Dpfe0pJXFajo"
      }
    },
    {
      "cell_type": "markdown",
      "source": [
        "On the other hand, to do forecasting, given that the harvests are made between seasons, it can be taken into account for future predictions, in addition to algorithms based on decision trees, algorithms such as seasonal autoregressive integrated moving average (SARIMA), taking advantage of seasonality."
      ],
      "metadata": {
        "id": "oXWxj48XGte1"
      }
    },
    {
      "cell_type": "code",
      "source": [
        ""
      ],
      "metadata": {
        "id": "PRZ-__GZHgge"
      },
      "execution_count": null,
      "outputs": []
    }
  ]
}